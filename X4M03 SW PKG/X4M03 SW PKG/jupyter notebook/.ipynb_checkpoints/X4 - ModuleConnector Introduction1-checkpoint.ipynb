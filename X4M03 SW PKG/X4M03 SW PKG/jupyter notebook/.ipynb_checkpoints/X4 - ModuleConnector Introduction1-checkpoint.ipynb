{
 "cells": [
  {
   "cell_type": "markdown",
   "metadata": {},
   "source": [
    "###### Introduction\n",
    "\n",
    "This document introduces the use of XeThru Development Platform from a host computer and introduces use of the X4 chip. This guide use the following hardware and software components:\n",
    "\n",
    "* [XeTru Embedded Platform (XEP)](https://www.xethru.com/community/resources/categories/xethru-embedded-platform.35/) compatible hardware.\n",
    "* Host library [Module Connector](https://www.xethru.com/community/resources/categories/module-connector.32/).\n",
    "\n",
    "Module Connector is a C++ library with wrappers for Matlab and Python. The wrappers supports the same functionality, but differs at some points. Python is used in this guide.\n",
    "\n",
    "<!---\n",
    "This Jupyter Notebook is available in TODO.\n",
    "-->\n",
    "\n",
    "# Installation\n",
    "\n",
    "## Prerequisites\n",
    "\n",
    "\n",
    "**Python**\n",
    "\n",
    "* Python 2.7\n",
    "* numpy\n",
    "* matplotlib\n",
    "\n",
    "It is recommended to install the python distribution package anaconda from continuum: https://www.continuum.io/downloads which contains most packages needed.\n",
    "\n",
    "## Module Connector \n",
    "\n",
    "Download the latest version for your platform here: https://www.xethru.com/community/resources/categories/module-connector.32/. Unzip the folder and see the various README.txt files in the root folder, python/ folder or matlab/ folder for documentation and installation.\n",
    "\n",
    "## Test python installation\n",
    "\n",
    "Connect a X4M03 module to the computer and start an ipython session with interactive matplotlib and pylab enabled:\n",
    "\n",
    "> ipython --pylab\n",
    "\n",
    "The following commands imports the python version of Module Connector and prints the version:\n",
    "\n",
    "```python\n",
    "import pymoduleconnector\n",
    "print pymoduleconnector.__version__\n",
    "1.1.5\n",
    "```\n",
    "\n",
    "Find the device name of your device and the following code will connect to a module, get the XEP interface and plot one frame:\n",
    "\n",
    "\n",
    "```python\n",
    "from pymoduleconnector import ModuleConnector\n",
    "\n",
    "device_name = 'COM6'\n",
    "mc = ModuleConnector(device_name)\n",
    "r = mc.get_xep()\n",
    "# Start sampling and streaming of radar data\n",
    "r.x4driver_set_fps(10)\n",
    "frame = np.array(r.read_message_data_float().data)\n",
    "# Stop streaming\n",
    "r.x4driver_set_fps(0)\n",
    "plot(frame)\n",
    "```\n"
   ]
  },
  {
   "cell_type": "code",
   "execution_count": 1,
   "metadata": {},
   "outputs": [],
   "source": [
    "# To support both python 2 and python 3\n",
    "from __future__ import division, print_function, unicode_literals\n",
    "\n",
    "# Common imports\n",
    "import numpy as np\n",
    "import os\n",
    "\n",
    "# to make this notebook's output stable across runs\n",
    "np.random.seed(42)\n",
    "\n",
    "# To plot pretty figures\n",
    "%matplotlib inline\n",
    "import matplotlib as mpl\n",
    "import matplotlib.pyplot as plt\n",
    "mpl.rc('axes', labelsize=14)\n",
    "mpl.rc('xtick', labelsize=12)\n",
    "mpl.rc('ytick', labelsize=12)\n",
    "\n",
    "# Where to save the figures\n",
    "PROJECT_ROOT_DIR = \".\"\n",
    "CHAPTER_ID = \"classification\"\n",
    "\n",
    "def save_fig(fig_id, tight_layout=True):\n",
    "    path = os.path.join(PROJECT_ROOT_DIR, \"images\", CHAPTER_ID, fig_id + \".png\")\n",
    "    print(\"Saving figure\", fig_id)\n",
    "    if tight_layout:\n",
    "        plt.tight_layout()\n",
    "    plt.savefig(path, format='png', dpi=300)"
   ]
  },
  {
   "cell_type": "markdown",
   "metadata": {},
   "source": [
    "# 없을때"
   ]
  },
  {
   "cell_type": "code",
   "execution_count": 2,
   "metadata": {},
   "outputs": [
    {
     "data": {
      "text/plain": [
       "array([[-4.91686761e-02, -5.24529628e-02, -3.89299430e-02, ...,\n",
       "         7.78052490e-05,  1.08491608e-04,  4.45719306e-05],\n",
       "       [-4.89479564e-02, -5.23567833e-02, -3.92126441e-02, ...,\n",
       "         7.63783391e-05,  8.03138610e-05,  1.72917607e-05],\n",
       "       [-4.84894887e-02, -5.17830104e-02, -3.89348790e-02, ...,\n",
       "         7.93165527e-05,  7.57492671e-05,  3.13077544e-05],\n",
       "       ...,\n",
       "       [-4.94713970e-02, -5.29342294e-02, -3.96963842e-02, ...,\n",
       "         3.44837899e-05,  3.50668306e-05, -5.60025956e-06],\n",
       "       [-4.97591756e-02, -5.32698147e-02, -3.98111790e-02, ...,\n",
       "         3.35478580e-05,  2.56000912e-05, -1.08936556e-05],\n",
       "       [-4.94738929e-02, -5.29006608e-02, -3.96814160e-02, ...,\n",
       "         6.39733771e-05,  6.76940981e-05,  5.50820050e-06]])"
      ]
     },
     "execution_count": 2,
     "metadata": {},
     "output_type": "execute_result"
    }
   ],
   "source": [
    "import csv\n",
    "import numpy as np\n",
    "import pandas as pd\n",
    "data1 = pd.read_csv(\"yes/Float_recording31.csv\", header=None)\n",
    "data1 = np.array(data1)\n",
    "data1 = np.concatenate(data1, axis=None)\n",
    "\n",
    "for i in range(501,700):    \n",
    "    a = pd.read_csv(\"yes/Float_recording\"+ str(i) +\".csv\", header=None)\n",
    "    a = np.array(a)\n",
    "    a = np.concatenate(a, axis=None)\n",
    "    data1 = np.vstack((data1,a))\n",
    "\n",
    "data1"
   ]
  },
  {
   "cell_type": "code",
   "execution_count": 3,
   "metadata": {},
   "outputs": [
    {
     "data": {
      "text/plain": [
       "(200L, 180L)"
      ]
     },
     "execution_count": 3,
     "metadata": {},
     "output_type": "execute_result"
    }
   ],
   "source": [
    "data1.shape"
   ]
  },
  {
   "cell_type": "markdown",
   "metadata": {},
   "source": [
    "# 있을때"
   ]
  },
  {
   "cell_type": "code",
   "execution_count": 4,
   "metadata": {},
   "outputs": [
    {
     "data": {
      "text/plain": [
       "array([[-4.96048369e-02, -5.32979332e-02, -4.01677005e-02, ...,\n",
       "         2.04908138e-05,  1.08015965e-05, -1.18142470e-05],\n",
       "       [-4.91474345e-02, -5.27077280e-02, -3.97475287e-02, ...,\n",
       "         6.06055494e-07, -2.10661819e-05, -3.27960406e-05],\n",
       "       [-4.92230467e-02, -5.27830385e-02, -3.98781523e-02, ...,\n",
       "        -6.77401295e-06,  5.32408239e-06, -1.81356354e-05],\n",
       "       ...,\n",
       "       [-5.16899154e-02, -5.59000596e-02, -4.18093130e-02, ...,\n",
       "        -1.27962103e-05, -7.55651490e-06, -3.80664242e-05],\n",
       "       [-5.17913103e-02, -5.60434945e-02, -4.20186110e-02, ...,\n",
       "         1.40313359e-05,  1.46527345e-05, -1.47371220e-05],\n",
       "       [-5.15945330e-02, -5.57242557e-02, -4.17579822e-02, ...,\n",
       "         3.77288743e-05,  5.11234684e-05,  1.67777653e-05]])"
      ]
     },
     "execution_count": 4,
     "metadata": {},
     "output_type": "execute_result"
    }
   ],
   "source": [
    "data2 = pd.read_csv(\"no/Float_recording31.csv\", header=None)\n",
    "data2 = np.array(data2)\n",
    "data2 = np.concatenate(data2, axis=None)\n",
    "\n",
    "for i in range(199):    \n",
    "    a = pd.read_csv(\"no/Float_recording\"+ str(i) +\".csv\", header=None)\n",
    "    a = np.array(a)\n",
    "    a = np.concatenate(a, axis=None)\n",
    "    data2 = np.vstack((data2,a))\n",
    "\n",
    "data2"
   ]
  },
  {
   "cell_type": "code",
   "execution_count": 5,
   "metadata": {},
   "outputs": [
    {
     "data": {
      "text/plain": [
       "(200L, 180L)"
      ]
     },
     "execution_count": 5,
     "metadata": {},
     "output_type": "execute_result"
    }
   ],
   "source": [
    "data2.shape"
   ]
  },
  {
   "cell_type": "code",
   "execution_count": 6,
   "metadata": {},
   "outputs": [],
   "source": [
    "data = np.vstack((data1,data2))\n",
    "x_train = data"
   ]
  },
  {
   "cell_type": "code",
   "execution_count": 7,
   "metadata": {},
   "outputs": [],
   "source": [
    "arr = np.zeros((200,1))\n",
    "y_train1 = (arr == 500)"
   ]
  },
  {
   "cell_type": "code",
   "execution_count": 8,
   "metadata": {},
   "outputs": [],
   "source": [
    "arr = np.zeros((200,1))\n",
    "y_train2 = (arr != 500)"
   ]
  },
  {
   "cell_type": "code",
   "execution_count": 9,
   "metadata": {},
   "outputs": [],
   "source": [
    "y_train = np.vstack((y_train1,y_train2))"
   ]
  },
  {
   "cell_type": "code",
   "execution_count": 10,
   "metadata": {},
   "outputs": [
    {
     "data": {
      "text/plain": [
       "(400L, 1L)"
      ]
     },
     "execution_count": 10,
     "metadata": {},
     "output_type": "execute_result"
    }
   ],
   "source": [
    "y_train.shape"
   ]
  },
  {
   "cell_type": "code",
   "execution_count": 11,
   "metadata": {},
   "outputs": [
    {
     "name": "stderr",
     "output_type": "stream",
     "text": [
      "C:\\Users\\Ubicomp_Lab\\Anaconda2\\lib\\site-packages\\sklearn\\utils\\validation.py:761: DataConversionWarning: A column-vector y was passed when a 1d array was expected. Please change the shape of y to (n_samples, ), for example using ravel().\n",
      "  y = column_or_1d(y, warn=True)\n"
     ]
    },
    {
     "data": {
      "text/plain": [
       "SGDClassifier(alpha=0.0001, average=False, class_weight=None,\n",
       "       early_stopping=False, epsilon=0.1, eta0=0.0, fit_intercept=True,\n",
       "       l1_ratio=0.15, learning_rate='optimal', loss='hinge', max_iter=5,\n",
       "       n_iter=None, n_iter_no_change=5, n_jobs=None, penalty='l2',\n",
       "       power_t=0.5, random_state=42, shuffle=True, tol=-inf,\n",
       "       validation_fraction=0.1, verbose=0, warm_start=False)"
      ]
     },
     "execution_count": 11,
     "metadata": {},
     "output_type": "execute_result"
    }
   ],
   "source": [
    "from sklearn.linear_model import SGDClassifier\n",
    "\n",
    "sgd_clf = SGDClassifier(max_iter=5, tol=-np.infty, random_state=42)\n",
    "sgd_clf.fit(x_train, y_train)"
   ]
  },
  {
   "cell_type": "code",
   "execution_count": 12,
   "metadata": {},
   "outputs": [],
   "source": [
    "from sklearn.model_selection import cross_val_predict\n",
    "\n",
    "y_train_pred = cross_val_predict(sgd_clf, x_train, y_train, cv=3)"
   ]
  },
  {
   "cell_type": "code",
   "execution_count": 13,
   "metadata": {},
   "outputs": [
    {
     "data": {
      "text/plain": [
       "array([ True])"
      ]
     },
     "execution_count": 13,
     "metadata": {},
     "output_type": "execute_result"
    }
   ],
   "source": [
    "some_digit = datatest\n",
    "sgd_clf.predict([some_digit])"
   ]
  },
  {
   "cell_type": "code",
   "execution_count": null,
   "metadata": {},
   "outputs": [],
   "source": [
    "from sklearn.metrics import accuracy_score\n",
    "y_pred =polynomial_svm_clf.predict(datatest)\n",
    "score_test = accuracy_score(y_train6, y_pred)"
   ]
  },
  {
   "cell_type": "code",
   "execution_count": 14,
   "metadata": {},
   "outputs": [
    {
     "data": {
      "text/plain": [
       "array([[134,  66],\n",
       "       [134,  66]], dtype=int64)"
      ]
     },
     "execution_count": 14,
     "metadata": {},
     "output_type": "execute_result"
    }
   ],
   "source": [
    "from sklearn.metrics import confusion_matrix\n",
    "\n",
    "confusion_matrix(y_train, y_train_pred)"
   ]
  },
  {
   "cell_type": "code",
   "execution_count": 15,
   "metadata": {},
   "outputs": [
    {
     "data": {
      "text/plain": [
       "array([0.5, 0.5, 0.5])"
      ]
     },
     "execution_count": 15,
     "metadata": {},
     "output_type": "execute_result"
    }
   ],
   "source": [
    "from sklearn.model_selection import cross_val_score\n",
    "cross_val_score(sgd_clf, x_train, y_train, cv=3, scoring=\"accuracy\")"
   ]
  },
  {
   "cell_type": "code",
   "execution_count": 16,
   "metadata": {},
   "outputs": [
    {
     "data": {
      "text/plain": [
       "0.5"
      ]
     },
     "execution_count": 16,
     "metadata": {},
     "output_type": "execute_result"
    }
   ],
   "source": [
    "from sklearn.metrics import precision_score, recall_score\n",
    "\n",
    "precision_score(y_train, y_train_pred)"
   ]
  },
  {
   "cell_type": "code",
   "execution_count": 17,
   "metadata": {},
   "outputs": [
    {
     "data": {
      "text/plain": [
       "0.33"
      ]
     },
     "execution_count": 17,
     "metadata": {},
     "output_type": "execute_result"
    }
   ],
   "source": [
    "recall_score(y_train, y_train_pred)"
   ]
  },
  {
   "cell_type": "code",
   "execution_count": 18,
   "metadata": {},
   "outputs": [
    {
     "data": {
      "text/plain": [
       "0.39759036144578314"
      ]
     },
     "execution_count": 18,
     "metadata": {},
     "output_type": "execute_result"
    }
   ],
   "source": [
    "from sklearn.metrics import f1_score\n",
    "f1_score(y_train, y_train_pred)"
   ]
  },
  {
   "cell_type": "code",
   "execution_count": 19,
   "metadata": {},
   "outputs": [
    {
     "data": {
      "text/plain": [
       "array([0.81951014])"
      ]
     },
     "execution_count": 19,
     "metadata": {},
     "output_type": "execute_result"
    }
   ],
   "source": [
    "y_scores = sgd_clf.decision_function([some_digit])\n",
    "y_scores"
   ]
  },
  {
   "cell_type": "code",
   "execution_count": 20,
   "metadata": {},
   "outputs": [],
   "source": [
    "threshold = 0.9\n",
    "y_some_digit_pred = (y_scores > threshold)"
   ]
  },
  {
   "cell_type": "code",
   "execution_count": 21,
   "metadata": {},
   "outputs": [
    {
     "data": {
      "text/plain": [
       "array([False])"
      ]
     },
     "execution_count": 21,
     "metadata": {},
     "output_type": "execute_result"
    }
   ],
   "source": [
    "y_some_digit_pred"
   ]
  },
  {
   "cell_type": "code",
   "execution_count": 22,
   "metadata": {},
   "outputs": [
    {
     "name": "stderr",
     "output_type": "stream",
     "text": [
      "C:\\Users\\Ubicomp_Lab\\Anaconda2\\lib\\site-packages\\sklearn\\preprocessing\\label.py:235: DataConversionWarning: A column-vector y was passed when a 1d array was expected. Please change the shape of y to (n_samples, ), for example using ravel().\n",
      "  y = column_or_1d(y, warn=True)\n"
     ]
    }
   ],
   "source": [
    "y_scores = cross_val_predict(sgd_clf, x_train, y_train, cv=3,method=\"decision_function\")"
   ]
  },
  {
   "cell_type": "code",
   "execution_count": 23,
   "metadata": {},
   "outputs": [
    {
     "data": {
      "text/plain": [
       "(400L,)"
      ]
     },
     "execution_count": 23,
     "metadata": {},
     "output_type": "execute_result"
    }
   ],
   "source": [
    "y_scores.shape"
   ]
  },
  {
   "cell_type": "code",
   "execution_count": 24,
   "metadata": {},
   "outputs": [],
   "source": [
    "if y_scores.ndim == 2:\n",
    "    y_scores = y_scores[:, 1]"
   ]
  },
  {
   "cell_type": "code",
   "execution_count": 25,
   "metadata": {},
   "outputs": [],
   "source": [
    "from sklearn.metrics import precision_recall_curve\n",
    "\n",
    "precisions, recalls, thresholds = precision_recall_curve(y_train, y_scores)"
   ]
  },
  {
   "cell_type": "code",
   "execution_count": 26,
   "metadata": {},
   "outputs": [
    {
     "data": {
      "text/plain": [
       "True"
      ]
     },
     "execution_count": 26,
     "metadata": {},
     "output_type": "execute_result"
    }
   ],
   "source": [
    "(y_train_pred == (y_scores > 0)).all()"
   ]
  },
  {
   "cell_type": "code",
   "execution_count": 27,
   "metadata": {},
   "outputs": [],
   "source": [
    "y_train_pred_90 = (y_scores > 0.9)"
   ]
  },
  {
   "cell_type": "code",
   "execution_count": 28,
   "metadata": {},
   "outputs": [
    {
     "data": {
      "text/plain": [
       "0.5"
      ]
     },
     "execution_count": 28,
     "metadata": {},
     "output_type": "execute_result"
    }
   ],
   "source": [
    "precision_score(y_train, y_train_pred_90)"
   ]
  },
  {
   "cell_type": "code",
   "execution_count": 29,
   "metadata": {},
   "outputs": [
    {
     "data": {
      "text/plain": [
       "0.33"
      ]
     },
     "execution_count": 29,
     "metadata": {},
     "output_type": "execute_result"
    }
   ],
   "source": [
    "recall_score(y_train, y_train_pred_90)"
   ]
  },
  {
   "cell_type": "code",
   "execution_count": 30,
   "metadata": {},
   "outputs": [],
   "source": [
    "from sklearn.metrics import roc_curve\n",
    "\n",
    "fpr, tpr, thresholds = roc_curve(y_train, y_scores)"
   ]
  },
  {
   "cell_type": "code",
   "execution_count": 31,
   "metadata": {},
   "outputs": [
    {
     "data": {
      "text/plain": [
       "0.653425"
      ]
     },
     "execution_count": 31,
     "metadata": {},
     "output_type": "execute_result"
    }
   ],
   "source": [
    "from sklearn.metrics import roc_auc_score\n",
    "\n",
    "roc_auc_score(y_train, y_scores)"
   ]
  },
  {
   "cell_type": "code",
   "execution_count": 32,
   "metadata": {},
   "outputs": [],
   "source": [
    "from sklearn.model_selection import cross_val_predict\n",
    "from sklearn.ensemble import RandomForestClassifier\n",
    "forest_clf = RandomForestClassifier(n_estimators=10, random_state=42)\n",
    "y_probas_forest = cross_val_predict(forest_clf,x_train, y_train, cv=3, method=\"predict_proba\")"
   ]
  },
  {
   "cell_type": "code",
   "execution_count": 33,
   "metadata": {},
   "outputs": [],
   "source": [
    "from sklearn.metrics import roc_auc_score\n",
    "y_scores_forest = y_probas_forest[:, 1]\n",
    "fpr_forest, tpr_forest, thresholds_forest = roc_curve(y_train, y_scores_forest)"
   ]
  },
  {
   "cell_type": "code",
   "execution_count": 34,
   "metadata": {},
   "outputs": [
    {
     "data": {
      "text/plain": [
       "1.0"
      ]
     },
     "execution_count": 34,
     "metadata": {},
     "output_type": "execute_result"
    }
   ],
   "source": [
    "roc_auc_score(y_train, y_scores_forest)"
   ]
  },
  {
   "cell_type": "code",
   "execution_count": 35,
   "metadata": {},
   "outputs": [
    {
     "name": "stderr",
     "output_type": "stream",
     "text": [
      "C:\\Users\\Ubicomp_Lab\\Anaconda2\\lib\\site-packages\\sklearn\\model_selection\\_validation.py:850: DataConversionWarning: A column-vector y was passed when a 1d array was expected. Please change the shape of y to (n_samples,), for example using ravel().\n",
      "  estimator.fit(X_train, y_train, **fit_params)\n"
     ]
    },
    {
     "data": {
      "text/plain": [
       "1.0"
      ]
     },
     "execution_count": 35,
     "metadata": {},
     "output_type": "execute_result"
    }
   ],
   "source": [
    "y_train_pred_forest = cross_val_predict(forest_clf, x_train, y_train, cv=3)\n",
    "precision_score(y_train, y_train_pred_forest)"
   ]
  },
  {
   "cell_type": "code",
   "execution_count": 36,
   "metadata": {},
   "outputs": [
    {
     "data": {
      "text/plain": [
       "1.0"
      ]
     },
     "execution_count": 36,
     "metadata": {},
     "output_type": "execute_result"
    }
   ],
   "source": [
    "recall_score(y_train, y_train_pred_forest)"
   ]
  },
  {
   "cell_type": "markdown",
   "metadata": {},
   "source": [
    "# 5개로 나눔"
   ]
  },
  {
   "cell_type": "code",
   "execution_count": 108,
   "metadata": {},
   "outputs": [
    {
     "data": {
      "text/plain": [
       "array([[-5.31013496e-02, -5.79873063e-02, -4.39663567e-02, ...,\n",
       "        -2.23089792e-05, -2.43419508e-05,  1.13155929e-05],\n",
       "       [-5.31013496e-02, -5.79873063e-02, -4.39663567e-02, ...,\n",
       "        -2.23089792e-05, -2.43419508e-05,  1.13155929e-05],\n",
       "       [-5.31961322e-02, -5.81681021e-02, -4.40712757e-02, ...,\n",
       "        -1.81663218e-05, -2.40657737e-05, -1.69542113e-06],\n",
       "       ...,\n",
       "       [-5.09131737e-02, -5.49869314e-02, -4.17868830e-02, ...,\n",
       "         1.04487035e-05, -2.04831413e-05, -1.41847677e-05],\n",
       "       [-5.14034964e-02, -5.57217859e-02, -4.24313508e-02, ...,\n",
       "         1.31030738e-05,  1.51820741e-05,  2.68812473e-05],\n",
       "       [-5.20030670e-02, -5.65406457e-02, -4.30195630e-02, ...,\n",
       "         1.02569138e-05, -6.97347423e-06, -1.53431770e-07]])"
      ]
     },
     "execution_count": 108,
     "metadata": {},
     "output_type": "execute_result"
    }
   ],
   "source": [
    "datatest = pd.read_csv(\"test/Float_recording0.csv\", header=None)\n",
    "datatest = np.array(datatest)\n",
    "datatest = np.concatenate(datatest, axis=None)\n",
    "\n",
    "for i in range(100):    \n",
    "    a = pd.read_csv(\"test/Float_recording\"+ str(i) +\".csv\", header=None)\n",
    "    a = np.array(a)\n",
    "    a = np.concatenate(a, axis=None)\n",
    "    datatest = np.vstack((datatest,a))\n",
    "\n",
    "datatest"
   ]
  },
  {
   "cell_type": "code",
   "execution_count": 109,
   "metadata": {},
   "outputs": [
    {
     "data": {
      "image/png": "[encoded data removed]",
      "text/plain": [
       "<Figure size 432x288 with 1 Axes>"
      ]
     },
     "metadata": {
      "needs_background": "light"
     },
     "output_type": "display_data"
    }
   ],
   "source": [
    "from sklearn.datasets import make_moons\n",
    "X, y = make_moons(n_samples=100, noise=0.15, random_state=42)\n",
    "\n",
    "def plot_dataset(X, y, axes):\n",
    "    plt.plot(X[:, 0][y==0], X[:, 1][y==0], \"bs\")\n",
    "    plt.plot(X[:, 0][y==1], X[:, 1][y==1], \"g^\")\n",
    "    plt.axis(axes)\n",
    "    plt.grid(True, which='both')\n",
    "    plt.xlabel(r\"$x_1$\", fontsize=20)\n",
    "    plt.ylabel(r\"$x_2$\", fontsize=20, rotation=0)\n",
    "\n",
    "plot_dataset(X, y, [-1.5, 2.5, -1, 1.5])\n",
    "plt.show()"
   ]
  },
  {
   "cell_type": "code",
   "execution_count": 110,
   "metadata": {},
   "outputs": [
    {
     "data": {
      "text/plain": [
       "Pipeline(memory=None,\n",
       "     steps=[(u'poly_features', PolynomialFeatures(degree=3, include_bias=True, interaction_only=False)), (u'scaler', StandardScaler(copy=True, with_mean=True, with_std=True)), (u'svm_clf', LinearSVC(C=10, class_weight=None, dual=True, fit_intercept=True,\n",
       "     intercept_scaling=1, loss=u'hinge', max_iter=1000, multi_class='ovr',\n",
       "     penalty='l2', random_state=42, tol=0.0001, verbose=0))])"
      ]
     },
     "execution_count": 110,
     "metadata": {},
     "output_type": "execute_result"
    }
   ],
   "source": [
    "from sklearn.datasets import make_moons\n",
    "from sklearn.pipeline import Pipeline\n",
    "from sklearn.preprocessing import PolynomialFeatures\n",
    "\n",
    "polynomial_svm_clf = Pipeline([\n",
    "        (\"poly_features\", PolynomialFeatures(degree=3)),\n",
    "        (\"scaler\", StandardScaler()),\n",
    "        (\"svm_clf\", LinearSVC(C=10, loss=\"hinge\", random_state=42))\n",
    "    ])\n",
    "\n",
    "polynomial_svm_clf.fit(X, y)"
   ]
  },
  {
   "cell_type": "code",
   "execution_count": 111,
   "metadata": {},
   "outputs": [
    {
     "data": {
      "text/plain": [
       "array([[-5.11591248e-02, -5.52019291e-02, -4.14246134e-02, ...,\n",
       "        -1.27148916e-04, -1.18265212e-04, -4.89370650e-05],\n",
       "       [-5.11591248e-02, -5.52019291e-02, -4.14246134e-02, ...,\n",
       "        -1.27148916e-04, -1.18265212e-04, -4.89370650e-05],\n",
       "       [-5.02446555e-02, -5.41550964e-02, -4.08608839e-02, ...,\n",
       "        -7.72298808e-05, -1.04118801e-04, -4.82236064e-05],\n",
       "       ...,\n",
       "       [-4.84249406e-02, -5.20267524e-02, -3.93888354e-02, ...,\n",
       "        -1.12081914e-04, -1.30470711e-04, -7.16219511e-05],\n",
       "       [-4.83406596e-02, -5.17759435e-02, -3.91725898e-02, ...,\n",
       "        -9.35473508e-05, -7.25885693e-05, -9.98840824e-06],\n",
       "       [-4.77790087e-02, -5.11156097e-02, -3.86752114e-02, ...,\n",
       "        -1.26389423e-04, -1.13033188e-04, -3.23050590e-05]])"
      ]
     },
     "execution_count": 111,
     "metadata": {},
     "output_type": "execute_result"
    }
   ],
   "source": [
    "data3 = pd.read_csv(\"1/Float_recording0.csv\", header=None)\n",
    "data3 = np.array(data3)\n",
    "data3 = np.concatenate(data3, axis=None)\n",
    "\n",
    "for i in range(100):    \n",
    "    a = pd.read_csv(\"1/Float_recording\"+ str(i) +\".csv\", header=None)\n",
    "    a = np.array(a)\n",
    "    a = np.concatenate(a, axis=None)\n",
    "    data3 = np.vstack((data3,a))\n",
    "\n",
    "data3"
   ]
  },
  {
   "cell_type": "code",
   "execution_count": 112,
   "metadata": {},
   "outputs": [],
   "source": [
    "y_train1 = np.full((101,1), 1)"
   ]
  },
  {
   "cell_type": "code",
   "execution_count": 113,
   "metadata": {},
   "outputs": [
    {
     "data": {
      "text/plain": [
       "array([[-4.72414196e-02, -5.04749715e-02, -3.87418978e-02, ...,\n",
       "        -7.86414530e-05, -7.30718821e-05, -4.38354582e-05],\n",
       "       [-4.72414196e-02, -5.04749715e-02, -3.87418978e-02, ...,\n",
       "        -7.86414530e-05, -7.30718821e-05, -4.38354582e-05],\n",
       "       [-4.97022904e-02, -5.35117388e-02, -4.06842008e-02, ...,\n",
       "        -2.92747827e-05, -2.06135592e-05, -8.29298733e-06],\n",
       "       ...,\n",
       "       [-4.83250804e-02, -5.18867671e-02, -3.97020690e-02, ...,\n",
       "        -6.67428249e-05, -6.66737760e-05, -3.62175706e-05],\n",
       "       [-4.75222543e-02, -5.08920550e-02, -3.91035751e-02, ...,\n",
       "        -5.18829547e-05, -4.63363940e-05, -3.56115161e-05],\n",
       "       [-4.73087989e-02, -5.05442321e-02, -3.88167202e-02, ...,\n",
       "        -7.14608468e-05, -6.42879168e-05, -5.17678818e-05]])"
      ]
     },
     "execution_count": 113,
     "metadata": {},
     "output_type": "execute_result"
    }
   ],
   "source": [
    "data4 = pd.read_csv(\"2/Float_recording0.csv\", header=None)\n",
    "data4 = np.array(data4)\n",
    "data4 = np.concatenate(data4, axis=None)\n",
    "\n",
    "for i in range(100):    \n",
    "    a = pd.read_csv(\"2/Float_recording\"+ str(i) +\".csv\", header=None)\n",
    "    a = np.array(a)\n",
    "    a = np.concatenate(a, axis=None)\n",
    "    data4 = np.vstack((data4,a))\n",
    "\n",
    "data4"
   ]
  },
  {
   "cell_type": "code",
   "execution_count": 114,
   "metadata": {},
   "outputs": [],
   "source": [
    "y_train2 = np.full((101,1), 2)"
   ]
  },
  {
   "cell_type": "code",
   "execution_count": 115,
   "metadata": {},
   "outputs": [
    {
     "data": {
      "text/plain": [
       "array([[-4.88618612e-02, -5.25819510e-02, -4.00952734e-02, ...,\n",
       "        -4.46870035e-05, -7.30335232e-05, -5.11004509e-05],\n",
       "       [-4.88618612e-02, -5.25819510e-02, -4.00952734e-02, ...,\n",
       "        -4.46870035e-05, -7.30335232e-05, -5.11004509e-05],\n",
       "       [-4.96095642e-02, -5.35706356e-02, -4.09138389e-02, ...,\n",
       "        -2.59913431e-05, -6.44183310e-05, -6.31525181e-05],\n",
       "       ...,\n",
       "       [-4.91429158e-02, -5.29044494e-02, -4.03065421e-02, ...,\n",
       "        -4.95584645e-05, -6.28763446e-05, -1.01341684e-05],\n",
       "       [-4.97923531e-02, -5.37361801e-02, -4.09154072e-02, ...,\n",
       "        -1.74068355e-05, -4.63363940e-05, -1.78671307e-05],\n",
       "       [-4.80637699e-02, -5.17000854e-02, -3.95464264e-02, ...,\n",
       "        -5.16758228e-05, -9.12688920e-05, -5.18599409e-05]])"
      ]
     },
     "execution_count": 115,
     "metadata": {},
     "output_type": "execute_result"
    }
   ],
   "source": [
    "data5 = pd.read_csv(\"3/Float_recording0.csv\", header=None)\n",
    "data5 = np.array(data5)\n",
    "data5 = np.concatenate(data5, axis=None)\n",
    "\n",
    "for i in range(100):    \n",
    "    a = pd.read_csv(\"3/Float_recording\"+ str(i) +\".csv\", header=None)\n",
    "    a = np.array(a)\n",
    "    a = np.concatenate(a, axis=None)\n",
    "    data5 = np.vstack((data5,a))\n",
    "\n",
    "data5"
   ]
  },
  {
   "cell_type": "code",
   "execution_count": 116,
   "metadata": {},
   "outputs": [],
   "source": [
    "y_train3 = np.full((101,1), 3)"
   ]
  },
  {
   "cell_type": "code",
   "execution_count": 117,
   "metadata": {},
   "outputs": [
    {
     "data": {
      "text/plain": [
       "array([[-5.05165979e-02, -5.46923578e-02, -4.16586734e-02, ...,\n",
       "        -7.40461765e-05, -1.12319729e-04, -8.81849119e-05],\n",
       "       [-5.05165979e-02, -5.46923578e-02, -4.16586734e-02, ...,\n",
       "        -7.40461765e-05, -1.12319729e-04, -8.81849119e-05],\n",
       "       [-5.13294563e-02, -5.57656139e-02, -4.23452817e-02, ...,\n",
       "        -5.44145769e-05, -8.25462921e-05, -5.30336911e-05],\n",
       "       ...,\n",
       "       [-4.85114604e-02, -5.22258207e-02, -3.99978831e-02, ...,\n",
       "        -2.95739737e-05, -4.78093425e-05, -2.15571636e-05],\n",
       "       [-4.90883626e-02, -5.28488979e-02, -4.03985716e-02, ...,\n",
       "        -1.16301280e-05, -3.34174401e-05, -1.50439855e-05],\n",
       "       [-4.97138910e-02, -5.37583902e-02, -4.09609377e-02, ...,\n",
       "        -7.35398498e-05, -9.44142448e-05, -6.41651714e-05]])"
      ]
     },
     "execution_count": 117,
     "metadata": {},
     "output_type": "execute_result"
    }
   ],
   "source": [
    "data6 = pd.read_csv(\"4/Float_recording0.csv\", header=None)\n",
    "data6 = np.array(data6)\n",
    "data6 = np.concatenate(data6, axis=None)\n",
    "\n",
    "for i in range(100):    \n",
    "    a = pd.read_csv(\"4/Float_recording\"+ str(i) +\".csv\", header=None)\n",
    "    a = np.array(a)\n",
    "    a = np.concatenate(a, axis=None)\n",
    "    data6 = np.vstack((data6,a))\n",
    "\n",
    "data6"
   ]
  },
  {
   "cell_type": "code",
   "execution_count": 118,
   "metadata": {},
   "outputs": [],
   "source": [
    "y_train4 = np.full((101,1), 4)"
   ]
  },
  {
   "cell_type": "code",
   "execution_count": 119,
   "metadata": {},
   "outputs": [
    {
     "data": {
      "text/plain": [
       "array([[-4.75545898e-02, -5.12547754e-02, -3.93875614e-02, ...,\n",
       "        -3.68389701e-05, -6.72798342e-05, -5.35937179e-05],\n",
       "       [-4.75545898e-02, -5.12547754e-02, -3.93875614e-02, ...,\n",
       "        -3.68389701e-05, -6.72798342e-05, -5.35937179e-05],\n",
       "       [-4.96272370e-02, -5.37037663e-02, -4.10645939e-02, ...,\n",
       "        -4.36359951e-05, -6.80776793e-05, -5.15607462e-05],\n",
       "       ...,\n",
       "       [-5.01272269e-02, -5.42323925e-02, -4.13805246e-02, ...,\n",
       "        -6.58222325e-06, -6.27229092e-05, -5.26117547e-05],\n",
       "       [-4.91481312e-02, -5.31210415e-02, -4.08180542e-02, ...,\n",
       "        -1.17221871e-05, -7.88025573e-05, -7.85570664e-05],\n",
       "       [-4.98498678e-02, -5.40114120e-02, -4.13474925e-02, ...,\n",
       "        -8.81542292e-05, -1.19093740e-04, -8.64818212e-05]])"
      ]
     },
     "execution_count": 119,
     "metadata": {},
     "output_type": "execute_result"
    }
   ],
   "source": [
    "data7 = pd.read_csv(\"5/Float_recording0.csv\", header=None)\n",
    "data7 = np.array(data7)\n",
    "data7 = np.concatenate(data7, axis=None)\n",
    "\n",
    "for i in range(100):    \n",
    "    a = pd.read_csv(\"5/Float_recording\"+ str(i) +\".csv\", header=None)\n",
    "    a = np.array(a)\n",
    "    a = np.concatenate(a, axis=None)\n",
    "    data7 = np.vstack((data7,a))\n",
    "\n",
    "data7"
   ]
  },
  {
   "cell_type": "code",
   "execution_count": 120,
   "metadata": {},
   "outputs": [],
   "source": [
    "y_train5 = np.full((101,1), 5)"
   ]
  },
  {
   "cell_type": "code",
   "execution_count": 121,
   "metadata": {},
   "outputs": [],
   "source": [
    "data8 = np.vstack((data3,data4))\n",
    "data8 = np.vstack((data8,data5))\n",
    "data8 = np.vstack((data8,data6))\n",
    "data8 = np.vstack((data8,data7))"
   ]
  },
  {
   "cell_type": "code",
   "execution_count": 122,
   "metadata": {},
   "outputs": [
    {
     "data": {
      "text/plain": [
       "(505L, 180L)"
      ]
     },
     "execution_count": 122,
     "metadata": {},
     "output_type": "execute_result"
    }
   ],
   "source": [
    "data8.shape"
   ]
  },
  {
   "cell_type": "code",
   "execution_count": 123,
   "metadata": {},
   "outputs": [
    {
     "data": {
      "text/plain": [
       "(505L, 180L)"
      ]
     },
     "execution_count": 123,
     "metadata": {},
     "output_type": "execute_result"
    }
   ],
   "source": [
    "x_train6 = data8\n",
    "x_train6.shape"
   ]
  },
  {
   "cell_type": "code",
   "execution_count": 124,
   "metadata": {},
   "outputs": [],
   "source": [
    "y_train6 = np.vstack((y_train1,y_train2))\n",
    "y_train6 = np.vstack((y_train6,y_train3))\n",
    "y_train6 = np.vstack((y_train6,y_train4))\n",
    "y_train6 = np.vstack((y_train6,y_train5))"
   ]
  },
  {
   "cell_type": "code",
   "execution_count": 125,
   "metadata": {},
   "outputs": [
    {
     "data": {
      "text/plain": [
       "(505L, 1L)"
      ]
     },
     "execution_count": 125,
     "metadata": {},
     "output_type": "execute_result"
    }
   ],
   "source": [
    "y_train6.shape"
   ]
  },
  {
   "cell_type": "code",
   "execution_count": 126,
   "metadata": {},
   "outputs": [
    {
     "data": {
      "text/plain": [
       "array([5])"
      ]
     },
     "execution_count": 126,
     "metadata": {},
     "output_type": "execute_result"
    }
   ],
   "source": [
    "some_digit = x_train6[250]\n",
    "sgd_clf.fit(x_train6, y_train6)\n",
    "sgd_clf.predict([some_digit])"
   ]
  },
  {
   "cell_type": "code",
   "execution_count": 127,
   "metadata": {},
   "outputs": [
    {
     "data": {
      "text/plain": [
       "array([[-1.01331303, -1.02005554, -0.99974349, -1.00254734,  1.86750041]])"
      ]
     },
     "execution_count": 127,
     "metadata": {},
     "output_type": "execute_result"
    }
   ],
   "source": [
    "some_digit_scores = sgd_clf.decision_function([some_digit])\n",
    "some_digit_scores"
   ]
  },
  {
   "cell_type": "code",
   "execution_count": 128,
   "metadata": {},
   "outputs": [
    {
     "data": {
      "text/plain": [
       "4"
      ]
     },
     "execution_count": 128,
     "metadata": {},
     "output_type": "execute_result"
    }
   ],
   "source": [
    "np.argmax(some_digit_scores)"
   ]
  },
  {
   "cell_type": "code",
   "execution_count": 129,
   "metadata": {},
   "outputs": [
    {
     "data": {
      "text/plain": [
       "array([1, 2, 3, 4, 5])"
      ]
     },
     "execution_count": 129,
     "metadata": {},
     "output_type": "execute_result"
    }
   ],
   "source": [
    "sgd_clf.classes_"
   ]
  },
  {
   "cell_type": "code",
   "execution_count": 130,
   "metadata": {},
   "outputs": [
    {
     "data": {
      "text/plain": [
       "5"
      ]
     },
     "execution_count": 130,
     "metadata": {},
     "output_type": "execute_result"
    }
   ],
   "source": [
    "sgd_clf.classes_[4]"
   ]
  },
  {
   "cell_type": "code",
   "execution_count": 131,
   "metadata": {
    "scrolled": true
   },
   "outputs": [
    {
     "data": {
      "text/plain": [
       "array([5])"
      ]
     },
     "execution_count": 131,
     "metadata": {},
     "output_type": "execute_result"
    }
   ],
   "source": [
    "from sklearn.multiclass import OneVsOneClassifier\n",
    "ovo_clf = OneVsOneClassifier(SGDClassifier(max_iter=5, tol=-np.infty, random_state=42))\n",
    "ovo_clf.fit(x_train6, y_train6)\n",
    "ovo_clf.predict([some_digit])"
   ]
  },
  {
   "cell_type": "code",
   "execution_count": 132,
   "metadata": {},
   "outputs": [
    {
     "data": {
      "text/plain": [
       "10"
      ]
     },
     "execution_count": 132,
     "metadata": {},
     "output_type": "execute_result"
    }
   ],
   "source": [
    "len(ovo_clf.estimators_)"
   ]
  },
  {
   "cell_type": "code",
   "execution_count": 133,
   "metadata": {},
   "outputs": [
    {
     "name": "stderr",
     "output_type": "stream",
     "text": [
      "C:\\Users\\Ubicomp_Lab\\Anaconda2\\lib\\site-packages\\ipykernel_launcher.py:6: DataConversionWarning: A column-vector y was passed when a 1d array was expected. Please change the shape of y to (n_samples,), for example using ravel().\n",
      "  \n"
     ]
    },
    {
     "data": {
      "text/plain": [
       "RandomForestClassifier(bootstrap=True, class_weight=None, criterion='gini',\n",
       "            max_depth=None, max_features='auto', max_leaf_nodes=None,\n",
       "            min_impurity_decrease=0.0, min_impurity_split=None,\n",
       "            min_samples_leaf=1, min_samples_split=2,\n",
       "            min_weight_fraction_leaf=0.0, n_estimators=10, n_jobs=None,\n",
       "            oob_score=False, random_state=42, verbose=0, warm_start=False)"
      ]
     },
     "execution_count": 133,
     "metadata": {},
     "output_type": "execute_result"
    }
   ],
   "source": [
    "from sklearn.ensemble import RandomForestClassifier\n",
    "forest_clf = RandomForestClassifier(n_estimators=10, random_state=42)\n",
    "import pandas as pd\n",
    "y_train6 = pd.DataFrame(y_train6)\n",
    "y_probas_forest = cross_val_predict(forest_clf, x_train6, y_train6, cv=3, method=\"predict_proba\")\n",
    "forest_clf.fit(x_train6, y_train6)"
   ]
  },
  {
   "cell_type": "code",
   "execution_count": 134,
   "metadata": {},
   "outputs": [
    {
     "data": {
      "text/plain": [
       "array([3])"
      ]
     },
     "execution_count": 134,
     "metadata": {},
     "output_type": "execute_result"
    }
   ],
   "source": [
    "forest_clf.predict([some_digit])"
   ]
  },
  {
   "cell_type": "code",
   "execution_count": 135,
   "metadata": {},
   "outputs": [
    {
     "data": {
      "text/plain": [
       "array([[0., 0., 1., 0., 0.]])"
      ]
     },
     "execution_count": 135,
     "metadata": {},
     "output_type": "execute_result"
    }
   ],
   "source": [
    "forest_clf.predict_proba([some_digit])"
   ]
  },
  {
   "cell_type": "code",
   "execution_count": 136,
   "metadata": {},
   "outputs": [
    {
     "data": {
      "text/plain": [
       "array([0.99411765, 1.        , 1.        ])"
      ]
     },
     "execution_count": 136,
     "metadata": {},
     "output_type": "execute_result"
    }
   ],
   "source": [
    "cross_val_score(forest_clf, x_train6, y_train6, cv=3, scoring=\"accuracy\")"
   ]
  },
  {
   "cell_type": "code",
   "execution_count": 137,
   "metadata": {},
   "outputs": [
    {
     "data": {
      "text/plain": [
       "array([0.99411765, 1.        , 1.        ])"
      ]
     },
     "execution_count": 137,
     "metadata": {},
     "output_type": "execute_result"
    }
   ],
   "source": [
    "from sklearn.preprocessing import StandardScaler\n",
    "scaler = StandardScaler()\n",
    "X_train_scaled = scaler.fit_transform(x_train6.astype(np.float64))\n",
    "cross_val_score(forest_clf, X_train_scaled, y_train6, cv=3, scoring=\"accuracy\")"
   ]
  },
  {
   "cell_type": "code",
   "execution_count": 138,
   "metadata": {},
   "outputs": [
    {
     "data": {
      "text/plain": [
       "array([[101,   0,   0,   0,   0],\n",
       "       [  0, 101,   0,   0,   0],\n",
       "       [  0,   0, 100,   1,   0],\n",
       "       [  0,   0,   0, 101,   0],\n",
       "       [  0,   0,   0,   0, 101]], dtype=int64)"
      ]
     },
     "execution_count": 138,
     "metadata": {},
     "output_type": "execute_result"
    }
   ],
   "source": [
    "y_train_pred = cross_val_predict(forest_clf, X_train_scaled, y_train6, cv=3)\n",
    "conf_mx = confusion_matrix(y_train6, y_train_pred)\n",
    "conf_mx"
   ]
  },
  {
   "cell_type": "code",
   "execution_count": 139,
   "metadata": {},
   "outputs": [],
   "source": [
    "def plot_confusion_matrix(matrix):\n",
    "    \"\"\"If you prefer color and a colorbar\"\"\"\n",
    "    fig = plt.figure(figsize=(8,8))\n",
    "    ax = fig.add_subplot(111)\n",
    "    cax = ax.matshow(matrix)\n",
    "    fig.colorbar(cax)"
   ]
  },
  {
   "cell_type": "code",
   "execution_count": 140,
   "metadata": {},
   "outputs": [
    {
     "data": {
      "image/png": "[encoded data removed]",
      "text/plain": [
       "<Figure size 288x288 with 1 Axes>"
      ]
     },
     "metadata": {
      "needs_background": "light"
     },
     "output_type": "display_data"
    }
   ],
   "source": [
    "plt.matshow(conf_mx, cmap=plt.cm.gray)\n",
    "plt.show()"
   ]
  },
  {
   "cell_type": "code",
   "execution_count": 141,
   "metadata": {},
   "outputs": [
    {
     "data": {
      "text/plain": [
       "array([0.2, 0.2, 0.2])"
      ]
     },
     "execution_count": 141,
     "metadata": {},
     "output_type": "execute_result"
    }
   ],
   "source": [
    "cross_val_score(sgd_clf, x_train6, y_train6, cv=3, scoring=\"accuracy\")"
   ]
  },
  {
   "cell_type": "code",
   "execution_count": 142,
   "metadata": {},
   "outputs": [
    {
     "data": {
      "text/plain": [
       "array([1., 1., 1.])"
      ]
     },
     "execution_count": 142,
     "metadata": {},
     "output_type": "execute_result"
    }
   ],
   "source": [
    "from sklearn.preprocessing import StandardScaler\n",
    "scaler = StandardScaler()\n",
    "X_train_scaled = scaler.fit_transform(x_train6.astype(np.float64))\n",
    "cross_val_score(sgd_clf, X_train_scaled, y_train6, cv=3, scoring=\"accuracy\")"
   ]
  },
  {
   "cell_type": "code",
   "execution_count": 143,
   "metadata": {},
   "outputs": [
    {
     "data": {
      "text/plain": [
       "array([[101,   0,   0,   0,   0],\n",
       "       [  0, 101,   0,   0,   0],\n",
       "       [  0,   0, 101,   0,   0],\n",
       "       [  0,   0,   0, 101,   0],\n",
       "       [  0,   0,   0,   0, 101]], dtype=int64)"
      ]
     },
     "execution_count": 143,
     "metadata": {},
     "output_type": "execute_result"
    }
   ],
   "source": [
    "y_train_pred = cross_val_predict(sgd_clf, X_train_scaled, y_train6, cv=3)\n",
    "conf_mx = confusion_matrix(y_train6, y_train_pred)\n",
    "conf_mx"
   ]
  },
  {
   "cell_type": "code",
   "execution_count": 144,
   "metadata": {},
   "outputs": [],
   "source": [
    "def plot_confusion_matrix(matrix):\n",
    "    \"\"\"If you prefer color and a colorbar\"\"\"\n",
    "    fig = plt.figure(figsize=(8,8))\n",
    "    ax = fig.add_subplot(111)\n",
    "    cax = ax.matshow(matrix)\n",
    "    fig.colorbar(cax)"
   ]
  },
  {
   "cell_type": "code",
   "execution_count": 145,
   "metadata": {},
   "outputs": [
    {
     "data": {
      "image/png": "[encoded data removed]",
      "text/plain": [
       "<Figure size 288x288 with 1 Axes>"
      ]
     },
     "metadata": {
      "needs_background": "light"
     },
     "output_type": "display_data"
    }
   ],
   "source": [
    "plt.matshow(conf_mx, cmap=plt.cm.gray)\n",
    "plt.show()"
   ]
  },
  {
   "cell_type": "code",
   "execution_count": 146,
   "metadata": {},
   "outputs": [],
   "source": [
    "row_sums = conf_mx.sum(axis=1, keepdims=True)\n",
    "norm_conf_mx = conf_mx / row_sums"
   ]
  },
  {
   "cell_type": "code",
   "execution_count": 147,
   "metadata": {},
   "outputs": [
    {
     "data": {
      "image/png": "[encoded data removed]",
      "text/plain": [
       "<Figure size 288x288 with 1 Axes>"
      ]
     },
     "metadata": {
      "needs_background": "light"
     },
     "output_type": "display_data"
    }
   ],
   "source": [
    "np.fill_diagonal(norm_conf_mx, 0)\n",
    "plt.matshow(norm_conf_mx, cmap=plt.cm.gray)\n",
    "plt.show()"
   ]
  },
  {
   "cell_type": "markdown",
   "metadata": {},
   "source": [
    "# 다항 특성 선형 scv"
   ]
  },
  {
   "cell_type": "code",
   "execution_count": 148,
   "metadata": {},
   "outputs": [
    {
     "data": {
      "text/plain": [
       "array([[-5.11591248e-02, -5.52019291e-02, -4.14246134e-02, ...,\n",
       "        -1.27148916e-04, -1.18265212e-04, -4.89370650e-05],\n",
       "       [-5.11591248e-02, -5.52019291e-02, -4.14246134e-02, ...,\n",
       "        -1.27148916e-04, -1.18265212e-04, -4.89370650e-05],\n",
       "       [-5.02446555e-02, -5.41550964e-02, -4.08608839e-02, ...,\n",
       "        -7.72298808e-05, -1.04118801e-04, -4.82236064e-05],\n",
       "       ...,\n",
       "       [-5.01272269e-02, -5.42323925e-02, -4.13805246e-02, ...,\n",
       "        -6.58222325e-06, -6.27229092e-05, -5.26117547e-05],\n",
       "       [-4.91481312e-02, -5.31210415e-02, -4.08180542e-02, ...,\n",
       "        -1.17221871e-05, -7.88025573e-05, -7.85570664e-05],\n",
       "       [-4.98498678e-02, -5.40114120e-02, -4.13474925e-02, ...,\n",
       "        -8.81542292e-05, -1.19093740e-04, -8.64818212e-05]])"
      ]
     },
     "execution_count": 148,
     "metadata": {},
     "output_type": "execute_result"
    }
   ],
   "source": [
    "x_train6"
   ]
  },
  {
   "cell_type": "code",
   "execution_count": null,
   "metadata": {},
   "outputs": [],
   "source": [
    "import numpy as np\n",
    "from sklearn import datasets\n",
    "from sklearn.pipeline import Pipeline\n",
    "from sklearn.preprocessing import StandardScaler\n",
    "from sklearn.svm import LinearSVC\n",
    "from sklearn.datasets import make_moons\n",
    "from sklearn.pipeline import Pipeline\n",
    "from sklearn.preprocessing import PolynomialFeatures\n",
    "\n",
    "polynomial_svm_clf = Pipeline([\n",
    "        (\"poly_features\", PolynomialFeatures(degree=3)),\n",
    "        (\"scaler\", StandardScaler()),\n",
    "        (\"svm_clf\", LinearSVC(C=10, loss=\"hinge\", random_state=42))\n",
    "    ])\n",
    "\n",
    "polynomial_svm_clf.fit(x_train6, y_train6)"
   ]
  },
  {
   "cell_type": "code",
   "execution_count": null,
   "metadata": {},
   "outputs": [],
   "source": [
    "polynomial_svm_clf.predict(datatest)"
   ]
  },
  {
   "cell_type": "code",
   "execution_count": null,
   "metadata": {},
   "outputs": [],
   "source": [
    "from sklearn.metrics import accuracy_score\n",
    "y_pred =polynomial_svm_clf.predict(datatest)\n",
    "score_test = accuracy_score(y_train6, y_pred)"
   ]
  },
  {
   "cell_type": "code",
   "execution_count": 92,
   "metadata": {},
   "outputs": [
    {
     "data": {
      "text/plain": [
       "1.0"
      ]
     },
     "execution_count": 92,
     "metadata": {},
     "output_type": "execute_result"
    }
   ],
   "source": [
    "score_test"
   ]
  },
  {
   "cell_type": "code",
   "execution_count": 75,
   "metadata": {},
   "outputs": [
    {
     "data": {
      "text/plain": [
       "Pipeline(memory=None,\n",
       "     steps=[(u'scaler', StandardScaler(copy=True, with_mean=True, with_std=True)), (u'svm_clf', SVC(C=5, cache_size=200, class_weight=None, coef0=1,\n",
       "  decision_function_shape='ovr', degree=3, gamma='auto_deprecated',\n",
       "  kernel=u'poly', max_iter=-1, probability=False, random_state=None,\n",
       "  shrinking=True, tol=0.001, verbose=False))])"
      ]
     },
     "execution_count": 75,
     "metadata": {},
     "output_type": "execute_result"
    }
   ],
   "source": [
    "from sklearn.svm import SVC\n",
    "\n",
    "poly_kernel_svm_clf = Pipeline([\n",
    "        (\"scaler\", StandardScaler()),\n",
    "        (\"svm_clf\", SVC(kernel=\"poly\", degree=3, coef0=1, C=5))\n",
    "    ])\n",
    "poly_kernel_svm_clf.fit(x_train6, y_train6)"
   ]
  },
  {
   "cell_type": "code",
   "execution_count": 76,
   "metadata": {},
   "outputs": [
    {
     "data": {
      "text/plain": [
       "Pipeline(memory=None,\n",
       "     steps=[(u'scaler', StandardScaler(copy=True, with_mean=True, with_std=True)), (u'svm_clf', SVC(C=5, cache_size=200, class_weight=None, coef0=100,\n",
       "  decision_function_shape='ovr', degree=10, gamma='auto_deprecated',\n",
       "  kernel=u'poly', max_iter=-1, probability=False, random_state=None,\n",
       "  shrinking=True, tol=0.001, verbose=False))])"
      ]
     },
     "execution_count": 76,
     "metadata": {},
     "output_type": "execute_result"
    }
   ],
   "source": [
    "poly100_kernel_svm_clf = Pipeline([\n",
    "        (\"scaler\", StandardScaler()),\n",
    "        (\"svm_clf\", SVC(kernel=\"poly\", degree=10, coef0=100, C=5))\n",
    "    ])\n",
    "poly100_kernel_svm_clf.fit(x_train6, y_train6)"
   ]
  },
  {
   "cell_type": "code",
   "execution_count": 77,
   "metadata": {},
   "outputs": [
    {
     "data": {
      "text/plain": [
       "Pipeline(memory=None,\n",
       "     steps=[(u'scaler', StandardScaler(copy=True, with_mean=True, with_std=True)), (u'svm_clf', SVC(C=0.001, cache_size=200, class_weight=None, coef0=0.0,\n",
       "  decision_function_shape='ovr', degree=3, gamma=5, kernel=u'rbf',\n",
       "  max_iter=-1, probability=False, random_state=None, shrinking=True,\n",
       "  tol=0.001, verbose=False))])"
      ]
     },
     "execution_count": 77,
     "metadata": {},
     "output_type": "execute_result"
    }
   ],
   "source": [
    "rbf_kernel_svm_clf = Pipeline([\n",
    "        (\"scaler\", StandardScaler()),\n",
    "        (\"svm_clf\", SVC(kernel=\"rbf\", gamma=5, C=0.001))\n",
    "    ])\n",
    "rbf_kernel_svm_clf.fit(x_train6, y_train6)"
   ]
  },
  {
   "cell_type": "code",
   "execution_count": 78,
   "metadata": {},
   "outputs": [
    {
     "data": {
      "text/plain": [
       "LinearSVR(C=1.0, dual=True, epsilon=1.5, fit_intercept=True,\n",
       "     intercept_scaling=1.0, loss='epsilon_insensitive', max_iter=1000,\n",
       "     random_state=42, tol=0.0001, verbose=0)"
      ]
     },
     "execution_count": 78,
     "metadata": {},
     "output_type": "execute_result"
    }
   ],
   "source": [
    "from sklearn.svm import LinearSVR\n",
    "\n",
    "svm_reg = LinearSVR(epsilon=1.5, random_state=42)\n",
    "svm_reg.fit(x_train6, y_train6)"
   ]
  },
  {
   "cell_type": "code",
   "execution_count": 79,
   "metadata": {},
   "outputs": [
    {
     "data": {
      "text/plain": [
       "SVR(C=100, cache_size=200, coef0=0.0, degree=2, epsilon=0.1, gamma=u'auto',\n",
       "  kernel=u'poly', max_iter=-1, shrinking=True, tol=0.001, verbose=False)"
      ]
     },
     "execution_count": 79,
     "metadata": {},
     "output_type": "execute_result"
    }
   ],
   "source": [
    "from sklearn.svm import SVR\n",
    "\n",
    "svm_poly_reg = SVR(kernel=\"poly\", degree=2, C=100, epsilon=0.1, gamma=\"auto\")\n",
    "svm_poly_reg.fit(x_train6, y_train6)"
   ]
  },
  {
   "cell_type": "markdown",
   "metadata": {},
   "source": [
    "# 결정트리"
   ]
  },
  {
   "cell_type": "code",
   "execution_count": 80,
   "metadata": {},
   "outputs": [
    {
     "data": {
      "text/plain": [
       "DecisionTreeClassifier(class_weight=None, criterion='gini', max_depth=2,\n",
       "            max_features=None, max_leaf_nodes=None,\n",
       "            min_impurity_decrease=0.0, min_impurity_split=None,\n",
       "            min_samples_leaf=1, min_samples_split=2,\n",
       "            min_weight_fraction_leaf=0.0, presort=False, random_state=42,\n",
       "            splitter='best')"
      ]
     },
     "execution_count": 80,
     "metadata": {},
     "output_type": "execute_result"
    }
   ],
   "source": [
    "from sklearn.tree import DecisionTreeClassifier\n",
    "tree_clf = DecisionTreeClassifier(max_depth=2, random_state=42)\n",
    "tree_clf.fit(x_train6, y_train6)"
   ]
  },
  {
   "cell_type": "code",
   "execution_count": 84,
   "metadata": {},
   "outputs": [
    {
     "data": {
      "text/plain": [
       "array([1, 1, 1, 1, 1, 1, 1, 1, 1, 1, 1, 1, 1, 1, 1, 1, 1, 1, 1, 1, 1, 1,\n",
       "       1, 1, 1, 1, 1, 1, 1, 1, 1, 1, 1, 1, 1, 1, 1, 1, 1, 1, 1, 1, 1, 1,\n",
       "       1, 1, 1, 1, 1, 1, 1, 1, 1, 1, 1, 1, 1, 1, 1, 1, 1, 1, 1, 1, 1, 1,\n",
       "       1, 1, 1, 1, 1, 1, 1, 1, 1, 1, 1, 1, 1, 1, 1, 1, 1, 1, 1, 1, 1, 1,\n",
       "       1, 1, 1, 1, 1, 1, 1, 1, 1, 1, 1, 1, 1, 1, 1, 1, 1, 1, 1, 1, 1, 1,\n",
       "       1, 1, 1, 1, 1, 1, 1, 1, 1, 1, 1, 1, 1, 1, 1, 1, 1, 1, 1, 1, 1, 1,\n",
       "       1, 1, 1, 1, 1, 1, 1, 1, 1, 1, 1, 1, 1, 1, 1, 1, 1, 1, 1, 1, 1, 1,\n",
       "       1, 1, 1, 1, 1, 1, 1, 1, 1, 1, 1, 1, 1, 1, 1, 1, 1, 1, 1, 1, 1, 1,\n",
       "       1, 1, 1, 1, 1, 1, 1, 1, 1, 1, 1, 1, 1, 1, 1, 1, 1, 1, 1, 1, 1, 1,\n",
       "       1, 1, 1, 1, 3, 3, 3, 3, 3, 3, 3, 3, 3, 3, 3, 3, 3, 3, 3, 3, 3, 3,\n",
       "       3, 3, 3, 3, 3, 3, 3, 3, 3, 3, 3, 3, 3, 3, 3, 3, 3, 3, 3, 3, 3, 3,\n",
       "       3, 3, 3, 3, 3, 3, 3, 3, 3, 3, 3, 3, 3, 3, 3, 3, 3, 3, 3, 3, 3, 3,\n",
       "       3, 3, 3, 3, 3, 3, 3, 3, 3, 3, 3, 3, 3, 3, 3, 3, 3, 3, 3, 3, 3, 3,\n",
       "       3, 3, 3, 3, 3, 3, 3, 3, 3, 3, 3, 3, 3, 3, 3, 3, 3, 3, 3, 3, 3, 3,\n",
       "       3, 3, 3, 3, 3, 3, 3, 3, 3, 3, 3, 3, 3, 3, 3, 3, 3, 3, 3, 3, 3, 3,\n",
       "       3, 3, 3, 3, 3, 3, 3, 3, 3, 3, 3, 3, 3, 3, 3, 3, 3, 3, 3, 3, 3, 3,\n",
       "       3, 3, 3, 3, 3, 3, 3, 3, 3, 3, 3, 3, 3, 3, 3, 3, 3, 3, 3, 3, 3, 3,\n",
       "       3, 3, 3, 3, 3, 3, 3, 3, 3, 3, 3, 3, 3, 3, 3, 3, 3, 3, 3, 3, 3, 3,\n",
       "       3, 3, 3, 3, 3, 3, 3, 3, 5, 5, 5, 5, 5, 5, 5, 5, 5, 5, 5, 5, 5, 5,\n",
       "       5, 5, 5, 5, 5, 5, 5, 5, 5, 5, 5, 5, 5, 5, 5, 5, 5, 5, 5, 5, 5, 5,\n",
       "       5, 5, 5, 5, 5, 5, 5, 5, 5, 5, 5, 5, 5, 5, 5, 5, 5, 5, 5, 5, 5, 5,\n",
       "       5, 5, 5, 5, 5, 5, 5, 5, 5, 5, 5, 5, 5, 5, 5, 5, 5, 5, 5, 5, 5, 5,\n",
       "       5, 5, 5, 5, 5, 5, 5, 5, 5, 5, 5, 5, 5, 5, 5, 5, 5, 5, 5, 5, 5])"
      ]
     },
     "execution_count": 84,
     "metadata": {},
     "output_type": "execute_result"
    }
   ],
   "source": [
    "tree_clf.predict_proba(x_train6)\n",
    "tree_clf.predict(x_train6)"
   ]
  },
  {
   "cell_type": "code",
   "execution_count": null,
   "metadata": {},
   "outputs": [],
   "source": [
    "from sklearn.tree import DecisionTreeRegressor\n",
    "\n",
    "tree_reg = DecisionTreeRegressor(max_depth=2, random_state=42)\n",
    "tree_reg.fit(x_train6, y_train6)"
   ]
  },
  {
   "cell_type": "code",
   "execution_count": null,
   "metadata": {},
   "outputs": [],
   "source": [
    "# "
   ]
  }
 ],
 "metadata": {
  "anaconda-cloud": {},
  "kernelspec": {
   "display_name": "Python 2",
   "language": "python",
   "name": "python2"
  },
  "language_info": {
   "codemirror_mode": {
    "name": "ipython",
    "version": 2
   },
   "file_extension": ".py",
   "mimetype": "text/x-python",
   "name": "python",
   "nbconvert_exporter": "python",
   "pygments_lexer": "ipython2",
   "version": "2.7.16"
  }
 },
 "nbformat": 4,
 "nbformat_minor": 1
}
