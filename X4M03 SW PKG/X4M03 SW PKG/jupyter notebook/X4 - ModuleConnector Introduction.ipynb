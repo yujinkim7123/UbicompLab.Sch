{
 "cells": [
  {
   "cell_type": "markdown",
   "metadata": {},
   "source": [
    "###### Introduction\n",
    "\n",
    "This document introduces the use of XeThru Development Platform from a host computer and introduces use of the X4 chip. This guide use the following hardware and software components:\n",
    "\n",
    "* [XeTru Embedded Platform (XEP)](https://www.xethru.com/community/resources/categories/xethru-embedded-platform.35/) compatible hardware.\n",
    "* Host library [Module Connector](https://www.xethru.com/community/resources/categories/module-connector.32/).\n",
    "\n",
    "Module Connector is a C++ library with wrappers for Matlab and Python. The wrappers supports the same functionality, but differs at some points. Python is used in this guide.\n",
    "\n",
    "<!---\n",
    "This Jupyter Notebook is available in TODO.\n",
    "-->\n",
    "\n",
    "# Installation\n",
    "\n",
    "## Prerequisites\n",
    "\n",
    "\n",
    "**Python**\n",
    "\n",
    "* Python 2.7\n",
    "* numpy\n",
    "* matplotlib\n",
    "\n",
    "It is recommended to install the python distribution package anaconda from continuum: https://www.continuum.io/downloads which contains most packages needed.\n",
    "\n",
    "## Module Connector \n",
    "\n",
    "Download the latest version for your platform here: https://www.xethru.com/community/resources/categories/module-connector.32/. Unzip the folder and see the various README.txt files in the root folder, python/ folder or matlab/ folder for documentation and installation.\n",
    "\n",
    "## Test python installation\n",
    "\n",
    "Connect a X4M03 module to the computer and start an ipython session with interactive matplotlib and pylab enabled:\n",
    "\n",
    "> ipython --pylab\n",
    "\n",
    "The following commands imports the python version of Module Connector and prints the version:\n",
    "\n",
    "```python\n",
    "import pymoduleconnector\n",
    "print pymoduleconnector.__version__\n",
    "1.1.5\n",
    "```\n",
    "\n",
    "Find the device name of your device and the following code will connect to a module, get the XEP interface and plot one frame:\n",
    "\n",
    "\n",
    "```python\n",
    "from pymoduleconnector import ModuleConnector\n",
    "\n",
    "device_name = 'COM4'\n",
    "mc = ModuleConnector(device_name)\n",
    "r = mc.get_xep()\n",
    "# Start sampling and streaming of radar data\n",
    "r.x4driver_set_fps(10)\n",
    "frame = np.array(r.read_message_data_float().data)\n",
    "# Stop streaming\n",
    "r.x4driver_set_fps(0)\n",
    "plot(frame)\n",
    "```\n"
   ]
  },
  {
   "cell_type": "markdown",
   "metadata": {},
   "source": [
    "# XEP Interface Example Usage\n",
    "\n",
    "This section demonstrates the X4Driver interface. Code blocks starts with \"In [n]\" and can be run in an ipython session. An X4M03 module with XEP is connected to the computer with an USB cable.\n",
    "\n"
   ]
  },
  {
   "cell_type": "code",
   "execution_count": 2,
   "metadata": {},
   "outputs": [
    {
     "ename": "ImportError",
     "evalue": "No module named pymoduleconnector",
     "output_type": "error",
     "traceback": [
      "\u001b[1;31m---------------------------------------------------------------------------\u001b[0m",
      "\u001b[1;31mImportError\u001b[0m                               Traceback (most recent call last)",
      "\u001b[1;32m<ipython-input-2-cadd8a9560a7>\u001b[0m in \u001b[0;36m<module>\u001b[1;34m()\u001b[0m\n\u001b[1;32m----> 1\u001b[1;33m \u001b[1;32mimport\u001b[0m \u001b[0mpymoduleconnector\u001b[0m\u001b[1;33m\u001b[0m\u001b[0m\n\u001b[0m\u001b[0;32m      2\u001b[0m \u001b[1;32mfrom\u001b[0m \u001b[0mpylab\u001b[0m \u001b[1;32mimport\u001b[0m \u001b[1;33m*\u001b[0m\u001b[1;33m\u001b[0m\u001b[0m\n\u001b[0;32m      3\u001b[0m \u001b[0mget_ipython\u001b[0m\u001b[1;33m(\u001b[0m\u001b[1;33m)\u001b[0m\u001b[1;33m.\u001b[0m\u001b[0mmagic\u001b[0m\u001b[1;33m(\u001b[0m\u001b[1;34mu'matplotlib inline'\u001b[0m\u001b[1;33m)\u001b[0m\u001b[1;33m\u001b[0m\u001b[0m\n\u001b[0;32m      4\u001b[0m \u001b[0mrcParams\u001b[0m\u001b[1;33m[\u001b[0m\u001b[1;34m'figure.figsize'\u001b[0m\u001b[1;33m]\u001b[0m \u001b[1;33m=\u001b[0m \u001b[1;33m[\u001b[0m\u001b[1;36m20\u001b[0m\u001b[1;33m,\u001b[0m \u001b[1;36m10\u001b[0m\u001b[1;33m]\u001b[0m\u001b[1;33m\u001b[0m\u001b[0m\n",
      "\u001b[1;31mImportError\u001b[0m: No module named pymoduleconnector"
     ]
    }
   ],
   "source": [
    "import pymoduleconnector\n",
    "from pylab import *\n",
    "%matplotlib inline\n",
    "rcParams['figure.figsize'] = [20, 10]"
   ]
  },
  {
   "cell_type": "markdown",
   "metadata": {},
   "source": [
    "First define some helper functions that we will use later on:\n"
   ]
  },
  {
   "cell_type": "code",
   "execution_count": null,
   "metadata": {},
   "outputs": [],
   "source": [
    "def reset(device_name):\n",
    "    \"\"\"Reset module and wait until the device is enumarated again.\n",
    "    \n",
    "    Note that the connection to the module must be closed before using this function.\n",
    "    \"\"\"\n",
    "    from time import sleep\n",
    "    mc = pymoduleconnector.ModuleConnector(device_name)\n",
    "    r = mc.get_xep()\n",
    "    r.module_reset()\n",
    "    mc.close()\n",
    "    sleep(3)\n",
    "\n",
    "def clear_buffer(radar):\n",
    "    \"\"\"Clears the frame buffer.\n",
    "    x4driver_set_fps starts streaming data and fills the host frame buffer with data.\n",
    "    This functions reads data until the buffer is empty.\n",
    "    \n",
    "    Frame data streaming is temporarily stopped while emptying the buffer.\n",
    "    \"\"\"\n",
    "    fps = radar.x4driver_get_fps()\n",
    "    while radar.peek_message_data_float():\n",
    "        _=radar.read_message_data_float()\n",
    "    radar.x4driver_set_fps(fps)\n",
    "    \n",
    "def read_frame_normalized(radar):\n",
    "    \"\"\"Reads a frame from the frame buffer.\n",
    "\n",
    "    The frame buffer is filled by enabling streaming with x4driver_set_fps\n",
    "    \n",
    "    Returns:\n",
    "        The frame array as read from the frame buffer.\n",
    "    \"\"\"\n",
    "    d = radar.read_message_data_float()\n",
    "    frame = np.array(d.data)\n",
    "    return frame\n",
    "\n",
    "def get_frame_normalized(radar):\n",
    "    \"\"\"Convinience function to sample 1 frame, reads and returns the result.\n",
    "    \n",
    "    This function will stop streaming if the radar is already streaming.\n",
    "    Use streaming mode to sample several frames.\n",
    "    \n",
    "    Returns:\n",
    "        The frame array as read from the frame buffer.\n",
    "    \"\"\"\n",
    "    clear_buffer(radar)\n",
    "    radar.x4driver_set_fps(10)\n",
    "    d = radar.read_message_data_float()\n",
    "    radar.x4driver_set_fps(0)\n",
    "    clear_buffer(radar)\n",
    "    frame = np.array(d.data)\n",
    "    # Convert the resulting frame to a complex array if downconversion is enabled\n",
    "    # Should probably be implemented without reading chip registers in the future.\n",
    "    if bitwise_and(radar.x4driver_get_pif_register(0x0f),1):\n",
    "        n=len(frame)\n",
    "        frame = frame[:n/2] + 1j*frame[n/2:]\n",
    "    return frame\n",
    "\n",
    "def get_frame_normalized(radar):\n",
    "    \"\"\"Convinience function to sample 1 frame, reads and returns the result.\n",
    "    \n",
    "    This function will stop streaming if the radar is already streaming.\n",
    "    Use streaming mode to sample several frames.\n",
    "    \n",
    "    Returns:\n",
    "        The frame array as read from the frame buffer.\n",
    "    \"\"\"\n",
    "    clear_buffer(radar)\n",
    "    radar.x4driver_set_fps(10)\n",
    "    d = radar.read_message_data_float()\n",
    "    radar.x4driver_set_fps(0)\n",
    "    clear_buffer(radar)\n",
    "    frame = np.array(d.data)\n",
    "    # Convert the resulting frame to a complex array if downconversion is enabled\n",
    "    # Should probably be implemented without reading chip registers in the future.\n",
    "    if bitwise_and(radar.x4driver_get_pif_register(0x0f),1):\n",
    "        n=len(frame)\n",
    "        frame = frame[:n/2] + 1j*frame[n/2:]\n",
    "    return frame\n",
    "\n",
    "def get_frames_normalized(radar, n, fps = 40):\n",
    "    \"\"\"!Streams frames for approximately n/fps seconds.\n",
    "\n",
    "    The chip is set up to stream fps frames per second, streaming is started\n",
    "    and sampled for n/fps seconds. Chips settings are not checked, so make\n",
    "    sure that the given fps is possible.\n",
    "\n",
    "    Returns:\n",
    "        Array of normalized frames\n",
    "    \"\"\"\n",
    "    from time import sleep\n",
    "    clear_buffer(radar)\n",
    "    radar.x4driver_set_fps(fps)\n",
    "    sleep(1.0*n/fps)\n",
    "    radar.x4driver_set_fps(fps)\n",
    "    frames = array(q.queue)/self._nfactor+self._noffset\n",
    "\n",
    "    self.log.info(\"Sampled %d frames, goal was %d\"%(len(frames), n))\n",
    "\n",
    "    return frames\n",
    "\n",
    "    \n",
    "\n",
    "def get_fs(radar):\n",
    "    \"\"\"Get the radar system sampling rate.\n",
    "\n",
    "    Returns:\n",
    "        Sampling rate in Hz\n",
    "    \"\"\"\n",
    "    # Read PIF register and mask out the rx_downconversion_enable bit\n",
    "    rx_downconversion_enable = bitwise_and(radar.x4driver_get_pif_register(0x0F),1)\n",
    "    if rx_downconversion_enable:\n",
    "        f=8.0\n",
    "    else:\n",
    "        f=1.0\n",
    "    return  243*8*12/1e3*1e9/f"
   ]
  },
  {
   "cell_type": "code",
   "execution_count": null,
   "metadata": {},
   "outputs": [],
   "source": [
    "DEVICE_NAME = 'com4'\n",
    "reset(DEVICE_NAME)"
   ]
  },
  {
   "cell_type": "code",
   "execution_count": null,
   "metadata": {},
   "outputs": [],
   "source": [
    "mc = pymoduleconnector.ModuleConnector(DEVICE_NAME)\n",
    "r = mc.get_xep()"
   ]
  },
  {
   "cell_type": "markdown",
   "metadata": {},
   "source": [
    "## Sampling frames"
   ]
  },
  {
   "cell_type": "markdown",
   "metadata": {},
   "source": [
    "The radar is setup and ready to sample frames. A single normilzed frame is sampled with:"
   ]
  },
  {
   "cell_type": "code",
   "execution_count": null,
   "metadata": {},
   "outputs": [],
   "source": [
    "print get_frame_normalized.__doc__"
   ]
  },
  {
   "cell_type": "code",
   "execution_count": null,
   "metadata": {},
   "outputs": [],
   "source": [
    "# Set start and stop of the frame in meters\n",
    "r.x4driver_set_frame_area(0,10)\n",
    "farea = r.x4driver_get_frame_area()\n",
    "farea_offset = r.x4driver_get_frame_area_offset()\n",
    "print \"Actual frames starts at %g meters and ends at %g meters\"%(farea.start, farea.end)\n",
    "print \"given a frame area offset of %g meters\"%(farea_offset)"
   ]
  },
  {
   "cell_type": "code",
   "execution_count": null,
   "metadata": {},
   "outputs": [],
   "source": [
    "# Set the start of the frame to include the direct coupling from TX to RX\n",
    "RX_WAIT_ADDRESS = 0x42\n",
    "#TX_WAIT_ADDRESS = 0x43\n",
    "r.x4driver_set_pif_register(RX_WAIT_ADDRESS, 0)\n",
    "#r.x4driver_set_pif_register(TX_WAIT_ADDRESS, 1)"
   ]
  },
  {
   "cell_type": "code",
   "execution_count": null,
   "metadata": {
    "scrolled": true
   },
   "outputs": [],
   "source": [
    "frame = get_frame_normalized(r)\n",
    "frame\n",
    "#plot(data)"
   ]
  },
  {
   "cell_type": "markdown",
   "metadata": {
    "collapsed": true
   },
   "source": [
    "Streaming data at a given frame rate is important in many applications, streaming if data should then be started and read from the frame buffer, here's a pseudocode example:\n",
    "\n",
    "```\n",
    "FPS=20\n",
    "x4driver_set_fps(FPS)\n",
    "\n",
    "while application_is_running:\n",
    "    frame = read_frame_normalized()\n",
    "    process_single_frame(frame)\n",
    "\n",
    "```"
   ]
  },
  {
   "cell_type": "code",
   "execution_count": null,
   "metadata": {},
   "outputs": [],
   "source": [
    "TX_CENTER_FREQUENCY_EU_7_290GHz  = 3\n",
    "TX_CENTER_FREQUENCY_KCC_8_748GHz = 4\n",
    "\n",
    "r.x4driver_set_tx_center_frequency(TX_CENTER_FREQUENCY_EU_7_290GHz)\n",
    "frame_etsi = get_frame_normalized(r)\n",
    "# Change transmitter center frequency from the to kcc\n",
    "r.x4driver_set_tx_center_frequency(TX_CENTER_FREQUENCY_KCC_8_748GHz)\n",
    "# Increase PG power for KCC transmitter\n",
    "r.x4driver_set_tx_power(3)\n",
    "frame_kcc = get_frame_normalized(r)\n",
    "# we'll use the etsi transmitter for now\n",
    "r.x4driver_set_tx_center_frequency(TX_CENTER_FREQUENCY_EU_7_290GHz)\n",
    "r.x4driver_set_tx_power(2)\n",
    "\n",
    "fs = get_fs(r)\n",
    "bins = len(data)\n",
    "distx =  np.arange(bins)/fs*3e8/2\n",
    "frame_etsi"
   ]
  },
  {
   "cell_type": "code",
   "execution_count": null,
   "metadata": {
    "scrolled": true
   },
   "outputs": [],
   "source": [
    "figure(figsize = (20,10))\n",
    "subplot(211)\n",
    "plot(data, label='etsi')\n",
    "plot(data, label='kcc')\n",
    "xlabel('Bin #')\n",
    "ylabel('DACValue (0 - 2047)')\n",
    "xlim(0,bins)\n",
    "legend()\n",
    "grid()\n",
    "ax = gca().twiny()\n",
    "ax.set_xlim(distx[0], distx[-1])\n",
    "title(\"Sampled frame\")\n",
    "print \"One frame consist of %d bins, sampled at %g GHz, corresponding to %g meters\"%(bins, fs/1e9, distx[-1])\n",
    "\n",
    "subplot(212)\n",
    "psd(frame_etsi, Fs = fs/1e9, label = 'etsi')\n",
    "psd(frame_kcc, Fs = fs/1e9, label = 'kcc')\n",
    "ylabel(\"Power\")\n",
    "_=title(\"PSD of the sampled frame. Remember that this does not reflect the actual transmitted power.\")"
   ]
  },
  {
   "cell_type": "markdown",
   "metadata": {},
   "source": [
    "## On-chip Downconversion to Baseband and Decimation\n",
    "\n",
    "X4 can downconvert the data which greatly reduces the amount of data to be processed. The 1536 bins long frame is downconverted and decimated resulting in 188 complex bins."
   ]
  },
  {
   "cell_type": "code",
   "execution_count": null,
   "metadata": {},
   "outputs": [],
   "source": [
    "r.x4driver_set_downconversion(1)\n",
    "# This changes the sample delat, set it back to 0\n",
    "r.x4driver_set_pif_register(RX_WAIT_ADDRESS,0)"
   ]
  },
  {
   "cell_type": "code",
   "execution_count": null,
   "metadata": {},
   "outputs": [],
   "source": [
    "frame = get_frame_normalized(r)\n",
    "fs = get_fs(r)\n",
    "bins = len(frame)\n",
    "distx =  np.arange(bins)/fs*3e8/2"
   ]
  },
  {
   "cell_type": "code",
   "execution_count": null,
   "metadata": {},
   "outputs": [],
   "source": [
    "figure(figsize = (20,10))\n",
    "plot(real(frame), label='real')\n",
    "plot(imag(frame), label='imag')\n",
    "plot(abs(frame), label='abs')\n",
    "\n",
    "xlabel('Bin #')\n",
    "ylabel('DACValue (0 - 2047)')\n",
    "xlim(0,bins)\n",
    "grid()\n",
    "legend()\n",
    "ax = gca().twiny()\n",
    "ax.set_xlim(distx[0], distx[-1])\n",
    "title(\"Sampled frame\")\n",
    "print \"One frame consist of %d bins, sampled at %g GHz, corresponding to %g meters\"%(bins, fs/1e9, distx[-1])"
   ]
  },
  {
   "cell_type": "markdown",
   "metadata": {},
   "source": [
    "## Adjusting Sweep parameters\n",
    "\n",
    "Some of the default settings are:"
   ]
  },
  {
   "cell_type": "code",
   "execution_count": 201,
   "metadata": {},
   "outputs": [
    {
     "name": "stdout",
     "output_type": "stream",
     "text": [
      "\n",
      "Default settings\n",
      "##############################\n",
      "Iterations:    8\n",
      "PulsesPerStep: 10\n",
      "PRF:           15.1875 MHz\n",
      "PRI:           65.8436 ns\n",
      "Frame length:  62.8429 ns\n"
     ]
    }
   ],
   "source": [
    "mc.close()\n",
    "reset(DEVICE_NAME)\n",
    "mc = pymoduleconnector.ModuleConnector(DEVICE_NAME)\n",
    "r = mc.get_xep()\n",
    "# Set the start of the frame to include the direct coupling from TX to RX\n",
    "r.x4driver_set_pif_register(RX_WAIT_ADDRESS, 0)\n",
    "\n",
    "bins = len(get_frame_normalized(r))\n",
    "\n",
    "# Note: Read chip parameters directly from chip when not\n",
    "# (yet) implemented in MC\n",
    "def get_prf(radar):\n",
    "    \"\"\"Get the configured PRF\n",
    "\n",
    "    Returns:\n",
    "        Frequency in hz\n",
    "    \"\"\"\n",
    "    trx_clocks_per_pulse = radar.x4driver_get_pif_register(0x2c)\n",
    "    return 243e6 / trx_clocks_per_pulse\n",
    "\n",
    "def get_iterations(radar):\n",
    "    \"\"\"Read and rteturns the configured iterations from chip.\"\"\"\n",
    "    iterations = radar.x4driver_get_pif_register(0x35)\n",
    "    return iterations\n",
    "\n",
    "def get_pps(radar):\n",
    "    \"\"\"Read and returns the configured pulses_per_step from chip.\"\"\"\n",
    "    pps = (radar.x4driver_get_pif_register(0x2e)<<8) + radar.x4driver_get_pif_register(0x2f)\n",
    "    return pps\n",
    "\n",
    "\n",
    "print \"\\nDefault settings\"\n",
    "print \"#\"*30\n",
    "print \"Iterations:    %d\"%(get_iterations(r))\n",
    "print \"PulsesPerStep: %d\"%(get_pps(r))\n",
    "print \"PRF:           %g MHz\"%(get_prf(r)/1e6)\n",
    "print \"PRI:           %g ns\"%(1/get_prf(r)*1e9)\n",
    "print \"Frame length:  %g ns\"%((bins-1)/get_fs(r)*1e9)"
   ]
  },
  {
   "cell_type": "markdown",
   "metadata": {
    "collapsed": true
   },
   "source": [
    "Accepting clipping of the direct coupled TX to RX pulse, the DAC range can be narrowed to some range around the frame mean, for example:"
   ]
  },
  {
   "cell_type": "code",
   "execution_count": 202,
   "metadata": {},
   "outputs": [],
   "source": [
    "dacmin = int(2047/2) - 100\n",
    "dacmax = int(2047/2) + 100\n",
    "r.x4driver_set_dac_min(dacmin)\n",
    "r.x4driver_set_dac_max(dacmax)"
   ]
  },
  {
   "cell_type": "code",
   "execution_count": 203,
   "metadata": {},
   "outputs": [],
   "source": [
    "frame = get_frame_normalized(r)"
   ]
  },
  {
   "cell_type": "code",
   "execution_count": 204,
   "metadata": {},
   "outputs": [
    {
     "data": {
      "text/plain": [
       "Text(0.5,1,'Note that y-scale normalization is wrong')"
      ]
     },
     "execution_count": 204,
     "metadata": {},
     "output_type": "execute_result"
    },
    {
     "data": {
      "image/png": "[encoded data removed]",
      "text/plain": [
       "<Figure size 1440x720 with 1 Axes>"
      ]
     },
     "metadata": {
      "needs_background": "light"
     },
     "output_type": "display_data"
    }
   ],
   "source": [
    "figure(figsize=(20,10))\n",
    "\n",
    "plot(data, label = 'Full DAC range')\n",
    "\n",
    "#Note Normalization goes wrong, the following scaling of the frame is just\n",
    "# to better show the effect of a narrow DAC range and is more similar to reality\n",
    "plot(data*.1,'r', label = 'Narrow DAC range')\n",
    "legend()\n",
    "grid()\n",
    "title(\"Note that y-scale normalization is wrong\")"
   ]
  },
  {
   "cell_type": "markdown",
   "metadata": {},
   "source": [
    "Given a desired FPS, PulsesPerSteps can be calculated."
   ]
  },
  {
   "cell_type": "code",
   "execution_count": 205,
   "metadata": {},
   "outputs": [
    {
     "ename": "AttributeError",
     "evalue": "type object 'object' has no attribute '__getattr__'",
     "output_type": "error",
     "traceback": [
      "\u001b[1;31m---------------------------------------------------------------------------\u001b[0m",
      "\u001b[1;31mAttributeError\u001b[0m                            Traceback (most recent call last)",
      "\u001b[1;32m<ipython-input-205-0c933430c1cc>\u001b[0m in \u001b[0;36m<module>\u001b[1;34m()\u001b[0m\n\u001b[0;32m      1\u001b[0m \u001b[0mfps\u001b[0m \u001b[1;33m=\u001b[0m \u001b[1;36m50\u001b[0m\u001b[1;33m\u001b[0m\u001b[0m\n\u001b[1;32m----> 2\u001b[1;33m \u001b[0mpps\u001b[0m \u001b[1;33m=\u001b[0m \u001b[1;36m1\u001b[0m\u001b[1;33m/\u001b[0m\u001b[1;33m(\u001b[0m\u001b[1;33m(\u001b[0m\u001b[0mdacmax\u001b[0m\u001b[1;33m-\u001b[0m\u001b[0mdacmin\u001b[0m\u001b[1;33m+\u001b[0m\u001b[1;36m1\u001b[0m\u001b[1;33m)\u001b[0m\u001b[1;33m*\u001b[0m\u001b[0mr\u001b[0m\u001b[1;33m.\u001b[0m\u001b[0mget_iterations\u001b[0m\u001b[1;33m(\u001b[0m\u001b[1;33m)\u001b[0m\u001b[1;33m/\u001b[0m\u001b[0mr\u001b[0m\u001b[1;33m.\u001b[0m\u001b[0mget_prf\u001b[0m\u001b[1;33m(\u001b[0m\u001b[1;33m)\u001b[0m\u001b[1;33m*\u001b[0m\u001b[0mfps\u001b[0m\u001b[1;33m)\u001b[0m\u001b[1;33m\u001b[0m\u001b[0m\n\u001b[0m\u001b[0;32m      3\u001b[0m \u001b[1;31m# Scale by 0.8\u001b[0m\u001b[1;33m\u001b[0m\u001b[1;33m\u001b[0m\u001b[0m\n\u001b[0;32m      4\u001b[0m \u001b[0mpps\u001b[0m \u001b[1;33m=\u001b[0m \u001b[0mint\u001b[0m\u001b[1;33m(\u001b[0m\u001b[0mpps\u001b[0m \u001b[1;33m*\u001b[0m \u001b[1;36m0.8\u001b[0m\u001b[1;33m)\u001b[0m\u001b[1;33m\u001b[0m\u001b[0m\n\u001b[0;32m      5\u001b[0m \u001b[0mr\u001b[0m\u001b[1;33m.\u001b[0m\u001b[0mset_pps\u001b[0m\u001b[1;33m(\u001b[0m\u001b[0mpps\u001b[0m\u001b[1;33m)\u001b[0m\u001b[1;33m\u001b[0m\u001b[0m\n",
      "\u001b[1;32mC:\\Users\\Ubicomp_Lab\\Anaconda2\\lib\\site-packages\\pymoduleconnector-1.6.2-py2.7.egg\\pymoduleconnector\\moduleconnectorwrapper\\__init__.pyc\u001b[0m in \u001b[0;36m<lambda>\u001b[1;34m(self, name)\u001b[0m\n\u001b[0;32m   6074\u001b[0m     \u001b[0m__setattr__\u001b[0m \u001b[1;33m=\u001b[0m \u001b[1;32mlambda\u001b[0m \u001b[0mself\u001b[0m\u001b[1;33m,\u001b[0m \u001b[0mname\u001b[0m\u001b[1;33m,\u001b[0m \u001b[0mvalue\u001b[0m\u001b[1;33m:\u001b[0m \u001b[0m_swig_setattr\u001b[0m\u001b[1;33m(\u001b[0m\u001b[0mself\u001b[0m\u001b[1;33m,\u001b[0m \u001b[0mPyXEP\u001b[0m\u001b[1;33m,\u001b[0m \u001b[0mname\u001b[0m\u001b[1;33m,\u001b[0m \u001b[0mvalue\u001b[0m\u001b[1;33m)\u001b[0m\u001b[1;33m\u001b[0m\u001b[0m\n\u001b[0;32m   6075\u001b[0m     \u001b[0m__swig_getmethods__\u001b[0m \u001b[1;33m=\u001b[0m \u001b[1;33m{\u001b[0m\u001b[1;33m}\u001b[0m\u001b[1;33m\u001b[0m\u001b[0m\n\u001b[1;32m-> 6076\u001b[1;33m     \u001b[0m__getattr__\u001b[0m \u001b[1;33m=\u001b[0m \u001b[1;32mlambda\u001b[0m \u001b[0mself\u001b[0m\u001b[1;33m,\u001b[0m \u001b[0mname\u001b[0m\u001b[1;33m:\u001b[0m \u001b[0m_swig_getattr\u001b[0m\u001b[1;33m(\u001b[0m\u001b[0mself\u001b[0m\u001b[1;33m,\u001b[0m \u001b[0mPyXEP\u001b[0m\u001b[1;33m,\u001b[0m \u001b[0mname\u001b[0m\u001b[1;33m)\u001b[0m\u001b[1;33m\u001b[0m\u001b[0m\n\u001b[0m\u001b[0;32m   6077\u001b[0m     \u001b[0m__repr__\u001b[0m \u001b[1;33m=\u001b[0m \u001b[0m_swig_repr\u001b[0m\u001b[1;33m\u001b[0m\u001b[0m\n\u001b[0;32m   6078\u001b[0m \u001b[1;33m\u001b[0m\u001b[0m\n",
      "\u001b[1;32mC:\\Users\\Ubicomp_Lab\\Anaconda2\\lib\\site-packages\\pymoduleconnector-1.6.2-py2.7.egg\\pymoduleconnector\\moduleconnectorwrapper\\__init__.pyc\u001b[0m in \u001b[0;36m_swig_getattr\u001b[1;34m(self, class_type, name)\u001b[0m\n\u001b[0;32m     72\u001b[0m \u001b[1;33m\u001b[0m\u001b[0m\n\u001b[0;32m     73\u001b[0m \u001b[1;32mdef\u001b[0m \u001b[0m_swig_getattr\u001b[0m\u001b[1;33m(\u001b[0m\u001b[0mself\u001b[0m\u001b[1;33m,\u001b[0m \u001b[0mclass_type\u001b[0m\u001b[1;33m,\u001b[0m \u001b[0mname\u001b[0m\u001b[1;33m)\u001b[0m\u001b[1;33m:\u001b[0m\u001b[1;33m\u001b[0m\u001b[0m\n\u001b[1;32m---> 74\u001b[1;33m     \u001b[1;32mreturn\u001b[0m \u001b[0m_swig_getattr_nondynamic\u001b[0m\u001b[1;33m(\u001b[0m\u001b[0mself\u001b[0m\u001b[1;33m,\u001b[0m \u001b[0mclass_type\u001b[0m\u001b[1;33m,\u001b[0m \u001b[0mname\u001b[0m\u001b[1;33m,\u001b[0m \u001b[1;36m0\u001b[0m\u001b[1;33m)\u001b[0m\u001b[1;33m\u001b[0m\u001b[0m\n\u001b[0m\u001b[0;32m     75\u001b[0m \u001b[1;33m\u001b[0m\u001b[0m\n\u001b[0;32m     76\u001b[0m \u001b[1;33m\u001b[0m\u001b[0m\n",
      "\u001b[1;32mC:\\Users\\Ubicomp_Lab\\Anaconda2\\lib\\site-packages\\pymoduleconnector-1.6.2-py2.7.egg\\pymoduleconnector\\moduleconnectorwrapper\\__init__.pyc\u001b[0m in \u001b[0;36m_swig_getattr_nondynamic\u001b[1;34m(self, class_type, name, static)\u001b[0m\n\u001b[0;32m     67\u001b[0m         \u001b[1;32mreturn\u001b[0m \u001b[0mmethod\u001b[0m\u001b[1;33m(\u001b[0m\u001b[0mself\u001b[0m\u001b[1;33m)\u001b[0m\u001b[1;33m\u001b[0m\u001b[0m\n\u001b[0;32m     68\u001b[0m     \u001b[1;32mif\u001b[0m \u001b[1;33m(\u001b[0m\u001b[1;32mnot\u001b[0m \u001b[0mstatic\u001b[0m\u001b[1;33m)\u001b[0m\u001b[1;33m:\u001b[0m\u001b[1;33m\u001b[0m\u001b[0m\n\u001b[1;32m---> 69\u001b[1;33m         \u001b[1;32mreturn\u001b[0m \u001b[0mobject\u001b[0m\u001b[1;33m.\u001b[0m\u001b[0m__getattr__\u001b[0m\u001b[1;33m(\u001b[0m\u001b[0mself\u001b[0m\u001b[1;33m,\u001b[0m \u001b[0mname\u001b[0m\u001b[1;33m)\u001b[0m\u001b[1;33m\u001b[0m\u001b[0m\n\u001b[0m\u001b[0;32m     70\u001b[0m     \u001b[1;32melse\u001b[0m\u001b[1;33m:\u001b[0m\u001b[1;33m\u001b[0m\u001b[0m\n\u001b[0;32m     71\u001b[0m         \u001b[1;32mraise\u001b[0m \u001b[0mAttributeError\u001b[0m\u001b[1;33m(\u001b[0m\u001b[0mname\u001b[0m\u001b[1;33m)\u001b[0m\u001b[1;33m\u001b[0m\u001b[0m\n",
      "\u001b[1;31mAttributeError\u001b[0m: type object 'object' has no attribute '__getattr__'"
     ]
    }
   ],
   "source": [
    "fps = 50\n",
    "pps = 1/((dacmax-dacmin+1)*r.get_iterations()/r.get_prf()*fps)\n",
    "# Scale by 0.8\n",
    "pps = int(pps * 0.8)\n",
    "r.set_pps(pps)\n",
    "# Test if the desired fps is possible:\n",
    "frames = r.get_frames_normalized(200, fps)"
   ]
  },
  {
   "cell_type": "markdown",
   "metadata": {},
   "source": [
    "Let's enable downconvertion and sample a data set. A person walks from behind the sensor, through the office door, to the wall and back:"
   ]
  },
  {
   "cell_type": "code",
   "execution_count": null,
   "metadata": {},
   "outputs": [],
   "source": [
    "r.enable_downconversion()"
   ]
  },
  {
   "cell_type": "code",
   "execution_count": 229,
   "metadata": {
    "scrolled": true
   },
   "outputs": [
    {
     "name": "stdout",
     "output_type": "stream",
     "text": [
      "Walk towards the radar and back, will start after 5 seconds [enter]\n"
     ]
    },
    {
     "ename": "AttributeError",
     "evalue": "type object 'object' has no attribute '__getattr__'",
     "output_type": "error",
     "traceback": [
      "\u001b[1;31m---------------------------------------------------------------------------\u001b[0m",
      "\u001b[1;31mAttributeError\u001b[0m                            Traceback (most recent call last)",
      "\u001b[1;32m<ipython-input-229-c71ebdb9a8f1>\u001b[0m in \u001b[0;36m<module>\u001b[1;34m()\u001b[0m\n\u001b[0;32m      2\u001b[0m \u001b[0mraw_input\u001b[0m\u001b[1;33m(\u001b[0m\u001b[1;34m\"Walk towards the radar and back, will start after 5 seconds [enter]\"\u001b[0m\u001b[1;33m)\u001b[0m\u001b[1;33m\u001b[0m\u001b[0m\n\u001b[0;32m      3\u001b[0m \u001b[0msleep\u001b[0m\u001b[1;33m(\u001b[0m\u001b[1;36m5\u001b[0m\u001b[1;33m)\u001b[0m\u001b[1;33m\u001b[0m\u001b[0m\n\u001b[1;32m----> 4\u001b[1;33m \u001b[0mframes\u001b[0m \u001b[1;33m=\u001b[0m \u001b[0mr\u001b[0m\u001b[1;33m.\u001b[0m\u001b[0mget_frames_normalized\u001b[0m\u001b[1;33m(\u001b[0m\u001b[1;36m700\u001b[0m\u001b[1;33m,\u001b[0m \u001b[0mfps\u001b[0m\u001b[1;33m)\u001b[0m\u001b[1;33m\u001b[0m\u001b[0m\n\u001b[0m\u001b[0;32m      5\u001b[0m \u001b[0mfs\u001b[0m \u001b[1;33m=\u001b[0m \u001b[0mget_fs\u001b[0m\u001b[1;33m(\u001b[0m\u001b[0mr\u001b[0m\u001b[1;33m)\u001b[0m\u001b[1;33m\u001b[0m\u001b[0m\n\u001b[0;32m      6\u001b[0m \u001b[0mbins\u001b[0m \u001b[1;33m=\u001b[0m \u001b[0mlen\u001b[0m\u001b[1;33m(\u001b[0m\u001b[0mdata\u001b[0m\u001b[1;33m)\u001b[0m\u001b[1;33m\u001b[0m\u001b[0m\n",
      "\u001b[1;32mC:\\Users\\Ubicomp_Lab\\Anaconda2\\lib\\site-packages\\pymoduleconnector-1.6.2-py2.7.egg\\pymoduleconnector\\moduleconnectorwrapper\\__init__.pyc\u001b[0m in \u001b[0;36m<lambda>\u001b[1;34m(self, name)\u001b[0m\n\u001b[0;32m   6074\u001b[0m     \u001b[0m__setattr__\u001b[0m \u001b[1;33m=\u001b[0m \u001b[1;32mlambda\u001b[0m \u001b[0mself\u001b[0m\u001b[1;33m,\u001b[0m \u001b[0mname\u001b[0m\u001b[1;33m,\u001b[0m \u001b[0mvalue\u001b[0m\u001b[1;33m:\u001b[0m \u001b[0m_swig_setattr\u001b[0m\u001b[1;33m(\u001b[0m\u001b[0mself\u001b[0m\u001b[1;33m,\u001b[0m \u001b[0mPyXEP\u001b[0m\u001b[1;33m,\u001b[0m \u001b[0mname\u001b[0m\u001b[1;33m,\u001b[0m \u001b[0mvalue\u001b[0m\u001b[1;33m)\u001b[0m\u001b[1;33m\u001b[0m\u001b[0m\n\u001b[0;32m   6075\u001b[0m     \u001b[0m__swig_getmethods__\u001b[0m \u001b[1;33m=\u001b[0m \u001b[1;33m{\u001b[0m\u001b[1;33m}\u001b[0m\u001b[1;33m\u001b[0m\u001b[0m\n\u001b[1;32m-> 6076\u001b[1;33m     \u001b[0m__getattr__\u001b[0m \u001b[1;33m=\u001b[0m \u001b[1;32mlambda\u001b[0m \u001b[0mself\u001b[0m\u001b[1;33m,\u001b[0m \u001b[0mname\u001b[0m\u001b[1;33m:\u001b[0m \u001b[0m_swig_getattr\u001b[0m\u001b[1;33m(\u001b[0m\u001b[0mself\u001b[0m\u001b[1;33m,\u001b[0m \u001b[0mPyXEP\u001b[0m\u001b[1;33m,\u001b[0m \u001b[0mname\u001b[0m\u001b[1;33m)\u001b[0m\u001b[1;33m\u001b[0m\u001b[0m\n\u001b[0m\u001b[0;32m   6077\u001b[0m     \u001b[0m__repr__\u001b[0m \u001b[1;33m=\u001b[0m \u001b[0m_swig_repr\u001b[0m\u001b[1;33m\u001b[0m\u001b[0m\n\u001b[0;32m   6078\u001b[0m \u001b[1;33m\u001b[0m\u001b[0m\n",
      "\u001b[1;32mC:\\Users\\Ubicomp_Lab\\Anaconda2\\lib\\site-packages\\pymoduleconnector-1.6.2-py2.7.egg\\pymoduleconnector\\moduleconnectorwrapper\\__init__.pyc\u001b[0m in \u001b[0;36m_swig_getattr\u001b[1;34m(self, class_type, name)\u001b[0m\n\u001b[0;32m     72\u001b[0m \u001b[1;33m\u001b[0m\u001b[0m\n\u001b[0;32m     73\u001b[0m \u001b[1;32mdef\u001b[0m \u001b[0m_swig_getattr\u001b[0m\u001b[1;33m(\u001b[0m\u001b[0mself\u001b[0m\u001b[1;33m,\u001b[0m \u001b[0mclass_type\u001b[0m\u001b[1;33m,\u001b[0m \u001b[0mname\u001b[0m\u001b[1;33m)\u001b[0m\u001b[1;33m:\u001b[0m\u001b[1;33m\u001b[0m\u001b[0m\n\u001b[1;32m---> 74\u001b[1;33m     \u001b[1;32mreturn\u001b[0m \u001b[0m_swig_getattr_nondynamic\u001b[0m\u001b[1;33m(\u001b[0m\u001b[0mself\u001b[0m\u001b[1;33m,\u001b[0m \u001b[0mclass_type\u001b[0m\u001b[1;33m,\u001b[0m \u001b[0mname\u001b[0m\u001b[1;33m,\u001b[0m \u001b[1;36m0\u001b[0m\u001b[1;33m)\u001b[0m\u001b[1;33m\u001b[0m\u001b[0m\n\u001b[0m\u001b[0;32m     75\u001b[0m \u001b[1;33m\u001b[0m\u001b[0m\n\u001b[0;32m     76\u001b[0m \u001b[1;33m\u001b[0m\u001b[0m\n",
      "\u001b[1;32mC:\\Users\\Ubicomp_Lab\\Anaconda2\\lib\\site-packages\\pymoduleconnector-1.6.2-py2.7.egg\\pymoduleconnector\\moduleconnectorwrapper\\__init__.pyc\u001b[0m in \u001b[0;36m_swig_getattr_nondynamic\u001b[1;34m(self, class_type, name, static)\u001b[0m\n\u001b[0;32m     67\u001b[0m         \u001b[1;32mreturn\u001b[0m \u001b[0mmethod\u001b[0m\u001b[1;33m(\u001b[0m\u001b[0mself\u001b[0m\u001b[1;33m)\u001b[0m\u001b[1;33m\u001b[0m\u001b[0m\n\u001b[0;32m     68\u001b[0m     \u001b[1;32mif\u001b[0m \u001b[1;33m(\u001b[0m\u001b[1;32mnot\u001b[0m \u001b[0mstatic\u001b[0m\u001b[1;33m)\u001b[0m\u001b[1;33m:\u001b[0m\u001b[1;33m\u001b[0m\u001b[0m\n\u001b[1;32m---> 69\u001b[1;33m         \u001b[1;32mreturn\u001b[0m \u001b[0mobject\u001b[0m\u001b[1;33m.\u001b[0m\u001b[0m__getattr__\u001b[0m\u001b[1;33m(\u001b[0m\u001b[0mself\u001b[0m\u001b[1;33m,\u001b[0m \u001b[0mname\u001b[0m\u001b[1;33m)\u001b[0m\u001b[1;33m\u001b[0m\u001b[0m\n\u001b[0m\u001b[0;32m     70\u001b[0m     \u001b[1;32melse\u001b[0m\u001b[1;33m:\u001b[0m\u001b[1;33m\u001b[0m\u001b[0m\n\u001b[0;32m     71\u001b[0m         \u001b[1;32mraise\u001b[0m \u001b[0mAttributeError\u001b[0m\u001b[1;33m(\u001b[0m\u001b[0mname\u001b[0m\u001b[1;33m)\u001b[0m\u001b[1;33m\u001b[0m\u001b[0m\n",
      "\u001b[1;31mAttributeError\u001b[0m: type object 'object' has no attribute '__getattr__'"
     ]
    }
   ],
   "source": [
    "from time import sleep\n",
    "raw_input(\"Walk towards the radar and back, will start after 5 seconds [enter]\")\n",
    "sleep(5)\n",
    "frames = r.get_frames_normalized(700, fps)"
   ]
  },
  {
   "cell_type": "code",
   "execution_count": 324,
   "metadata": {},
   "outputs": [],
   "source": [
    "#fs = get_fs(r)\n",
    "bins = len(data)\n",
    "distx =  np.arange(bins)/fs*3e8/2"
   ]
  },
  {
   "cell_type": "code",
   "execution_count": 331,
   "metadata": {},
   "outputs": [
    {
     "ename": "TypeError",
     "evalue": "Dimensions of C (1467L, 0L) are incompatible with X (1467) and/or Y (1467); see help(pcolormesh)",
     "output_type": "error",
     "traceback": [
      "\u001b[1;31m---------------------------------------------------------------------------\u001b[0m",
      "\u001b[1;31mTypeError\u001b[0m                                 Traceback (most recent call last)",
      "\u001b[1;32m<ipython-input-331-9266b6bf6f11>\u001b[0m in \u001b[0;36m<module>\u001b[1;34m()\u001b[0m\n\u001b[0;32m      5\u001b[0m     \u001b[1;32mpass\u001b[0m\u001b[1;33m\u001b[0m\u001b[0m\n\u001b[0;32m      6\u001b[0m \u001b[0mf\u001b[0m\u001b[1;33m=\u001b[0m\u001b[0mnp\u001b[0m\u001b[1;33m.\u001b[0m\u001b[0mabs\u001b[0m\u001b[1;33m(\u001b[0m\u001b[0mdiff\u001b[0m\u001b[1;33m(\u001b[0m\u001b[0mdata\u001b[0m\u001b[1;33m)\u001b[0m\u001b[1;33m)\u001b[0m\u001b[1;33m\u001b[0m\u001b[0m\n\u001b[1;32m----> 7\u001b[1;33m \u001b[0mpcolormesh\u001b[0m\u001b[1;33m(\u001b[0m\u001b[0mY\u001b[0m\u001b[1;33m,\u001b[0m\u001b[0mX\u001b[0m\u001b[1;33m,\u001b[0m\u001b[0mf\u001b[0m\u001b[1;33m,\u001b[0m \u001b[0mcmap\u001b[0m\u001b[1;33m=\u001b[0m\u001b[0mcm\u001b[0m\u001b[1;33m.\u001b[0m\u001b[0mjet\u001b[0m\u001b[1;33m)\u001b[0m\u001b[1;33m\u001b[0m\u001b[0m\n\u001b[0m\u001b[0;32m      8\u001b[0m \u001b[0mxlabel\u001b[0m\u001b[1;33m(\u001b[0m\u001b[1;34m\"Distance (m)\"\u001b[0m\u001b[1;33m)\u001b[0m\u001b[1;33m\u001b[0m\u001b[0m\n\u001b[0;32m      9\u001b[0m \u001b[0mylabel\u001b[0m\u001b[1;33m(\u001b[0m\u001b[1;34m\"Time (s)\"\u001b[0m\u001b[1;33m)\u001b[0m\u001b[1;33m\u001b[0m\u001b[0m\n",
      "\u001b[1;32mC:\\Users\\Ubicomp_Lab\\Anaconda2\\lib\\site-packages\\matplotlib\\pyplot.pyc\u001b[0m in \u001b[0;36mpcolormesh\u001b[1;34m(*args, **kwargs)\u001b[0m\n\u001b[0;32m   3291\u001b[0m                       mplDeprecation)\n\u001b[0;32m   3292\u001b[0m     \u001b[1;32mtry\u001b[0m\u001b[1;33m:\u001b[0m\u001b[1;33m\u001b[0m\u001b[0m\n\u001b[1;32m-> 3293\u001b[1;33m         \u001b[0mret\u001b[0m \u001b[1;33m=\u001b[0m \u001b[0max\u001b[0m\u001b[1;33m.\u001b[0m\u001b[0mpcolormesh\u001b[0m\u001b[1;33m(\u001b[0m\u001b[1;33m*\u001b[0m\u001b[0margs\u001b[0m\u001b[1;33m,\u001b[0m \u001b[1;33m**\u001b[0m\u001b[0mkwargs\u001b[0m\u001b[1;33m)\u001b[0m\u001b[1;33m\u001b[0m\u001b[0m\n\u001b[0m\u001b[0;32m   3294\u001b[0m     \u001b[1;32mfinally\u001b[0m\u001b[1;33m:\u001b[0m\u001b[1;33m\u001b[0m\u001b[0m\n\u001b[0;32m   3295\u001b[0m         \u001b[0max\u001b[0m\u001b[1;33m.\u001b[0m\u001b[0m_hold\u001b[0m \u001b[1;33m=\u001b[0m \u001b[0mwashold\u001b[0m\u001b[1;33m\u001b[0m\u001b[0m\n",
      "\u001b[1;32mC:\\Users\\Ubicomp_Lab\\Anaconda2\\lib\\site-packages\\matplotlib\\__init__.pyc\u001b[0m in \u001b[0;36minner\u001b[1;34m(ax, *args, **kwargs)\u001b[0m\n\u001b[0;32m   1865\u001b[0m                         \u001b[1;34m\"the Matplotlib list!)\"\u001b[0m \u001b[1;33m%\u001b[0m \u001b[1;33m(\u001b[0m\u001b[0mlabel_namer\u001b[0m\u001b[1;33m,\u001b[0m \u001b[0mfunc\u001b[0m\u001b[1;33m.\u001b[0m\u001b[0m__name__\u001b[0m\u001b[1;33m)\u001b[0m\u001b[1;33m,\u001b[0m\u001b[1;33m\u001b[0m\u001b[0m\n\u001b[0;32m   1866\u001b[0m                         RuntimeWarning, stacklevel=2)\n\u001b[1;32m-> 1867\u001b[1;33m             \u001b[1;32mreturn\u001b[0m \u001b[0mfunc\u001b[0m\u001b[1;33m(\u001b[0m\u001b[0max\u001b[0m\u001b[1;33m,\u001b[0m \u001b[1;33m*\u001b[0m\u001b[0margs\u001b[0m\u001b[1;33m,\u001b[0m \u001b[1;33m**\u001b[0m\u001b[0mkwargs\u001b[0m\u001b[1;33m)\u001b[0m\u001b[1;33m\u001b[0m\u001b[0m\n\u001b[0m\u001b[0;32m   1868\u001b[0m \u001b[1;33m\u001b[0m\u001b[0m\n\u001b[0;32m   1869\u001b[0m         inner.__doc__ = _add_data_doc(inner.__doc__,\n",
      "\u001b[1;32mC:\\Users\\Ubicomp_Lab\\Anaconda2\\lib\\site-packages\\matplotlib\\axes\\_axes.pyc\u001b[0m in \u001b[0;36mpcolormesh\u001b[1;34m(self, *args, **kwargs)\u001b[0m\n\u001b[0;32m   6019\u001b[0m         \u001b[0mallmatch\u001b[0m \u001b[1;33m=\u001b[0m \u001b[1;33m(\u001b[0m\u001b[0mshading\u001b[0m \u001b[1;33m==\u001b[0m \u001b[1;34m'gouraud'\u001b[0m\u001b[1;33m)\u001b[0m\u001b[1;33m\u001b[0m\u001b[0m\n\u001b[0;32m   6020\u001b[0m \u001b[1;33m\u001b[0m\u001b[0m\n\u001b[1;32m-> 6021\u001b[1;33m         \u001b[0mX\u001b[0m\u001b[1;33m,\u001b[0m \u001b[0mY\u001b[0m\u001b[1;33m,\u001b[0m \u001b[0mC\u001b[0m \u001b[1;33m=\u001b[0m \u001b[0mself\u001b[0m\u001b[1;33m.\u001b[0m\u001b[0m_pcolorargs\u001b[0m\u001b[1;33m(\u001b[0m\u001b[1;34m'pcolormesh'\u001b[0m\u001b[1;33m,\u001b[0m \u001b[1;33m*\u001b[0m\u001b[0margs\u001b[0m\u001b[1;33m,\u001b[0m \u001b[0mallmatch\u001b[0m\u001b[1;33m=\u001b[0m\u001b[0mallmatch\u001b[0m\u001b[1;33m)\u001b[0m\u001b[1;33m\u001b[0m\u001b[0m\n\u001b[0m\u001b[0;32m   6022\u001b[0m         \u001b[0mNy\u001b[0m\u001b[1;33m,\u001b[0m \u001b[0mNx\u001b[0m \u001b[1;33m=\u001b[0m \u001b[0mX\u001b[0m\u001b[1;33m.\u001b[0m\u001b[0mshape\u001b[0m\u001b[1;33m\u001b[0m\u001b[0m\n\u001b[0;32m   6023\u001b[0m         \u001b[0mX\u001b[0m \u001b[1;33m=\u001b[0m \u001b[0mX\u001b[0m\u001b[1;33m.\u001b[0m\u001b[0mravel\u001b[0m\u001b[1;33m(\u001b[0m\u001b[1;33m)\u001b[0m\u001b[1;33m\u001b[0m\u001b[0m\n",
      "\u001b[1;32mC:\\Users\\Ubicomp_Lab\\Anaconda2\\lib\\site-packages\\matplotlib\\axes\\_axes.pyc\u001b[0m in \u001b[0;36m_pcolorargs\u001b[1;34m(funcname, *args, **kw)\u001b[0m\n\u001b[0;32m   5588\u001b[0m                 raise TypeError('Dimensions of C %s are incompatible with'\n\u001b[0;32m   5589\u001b[0m                                 ' X (%d) and/or Y (%d); see help(%s)' % (\n\u001b[1;32m-> 5590\u001b[1;33m                                     C.shape, Nx, Ny, funcname))\n\u001b[0m\u001b[0;32m   5591\u001b[0m             \u001b[0mC\u001b[0m \u001b[1;33m=\u001b[0m \u001b[0mC\u001b[0m\u001b[1;33m[\u001b[0m\u001b[1;33m:\u001b[0m\u001b[0mNy\u001b[0m \u001b[1;33m-\u001b[0m \u001b[1;36m1\u001b[0m\u001b[1;33m,\u001b[0m \u001b[1;33m:\u001b[0m\u001b[0mNx\u001b[0m \u001b[1;33m-\u001b[0m \u001b[1;36m1\u001b[0m\u001b[1;33m]\u001b[0m\u001b[1;33m\u001b[0m\u001b[0m\n\u001b[0;32m   5592\u001b[0m         \u001b[0mC\u001b[0m \u001b[1;33m=\u001b[0m \u001b[0mcbook\u001b[0m\u001b[1;33m.\u001b[0m\u001b[0msafe_masked_invalid\u001b[0m\u001b[1;33m(\u001b[0m\u001b[0mC\u001b[0m\u001b[1;33m)\u001b[0m\u001b[1;33m\u001b[0m\u001b[0m\n",
      "\u001b[1;31mTypeError\u001b[0m: Dimensions of C (1467L, 0L) are incompatible with X (1467) and/or Y (1467); see help(pcolormesh)"
     ]
    },
    {
     "data": {
      "image/png": "[encoded data removed]",
      "text/plain": [
       "<Figure size 1440x720 with 1 Axes>"
      ]
     },
     "metadata": {
      "needs_background": "light"
     },
     "output_type": "display_data"
    }
   ],
   "source": [
    "figure(figsize=(20,10))\n",
    "try:\n",
    "    X,Y = np.meshgrid(distx, arange(0,len(data)/10,1/10))\n",
    "except ZeroDivisionError:\n",
    "    pass\n",
    "f=np.abs(diff(data))\n",
    "pcolormesh(X,Y,f, cmap=cm.jet)\n",
    "xlabel(\"Distance (m)\")\n",
    "ylabel(\"Time (s)\")\n",
    "title(\"\")"
   ]
  },
  {
   "cell_type": "code",
   "execution_count": 285,
   "metadata": {},
   "outputs": [],
   "source": [
    "# Close the connection\n",
    "mc.close()"
   ]
  },
  {
   "cell_type": "code",
   "execution_count": null,
   "metadata": {},
   "outputs": [],
   "source": [
    "d = r.read_message_data_float()"
   ]
  },
  {
   "cell_type": "code",
   "execution_count": null,
   "metadata": {},
   "outputs": [],
   "source": []
  }
 ],
 "metadata": {
  "anaconda-cloud": {},
  "kernelspec": {
   "display_name": "Python 2",
   "language": "python",
   "name": "python2"
  }
 },
 "nbformat": 4,
 "nbformat_minor": 1
}
