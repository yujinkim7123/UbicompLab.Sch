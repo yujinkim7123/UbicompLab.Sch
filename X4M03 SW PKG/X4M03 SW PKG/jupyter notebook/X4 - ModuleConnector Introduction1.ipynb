{
 "cells": [
  {
   "cell_type": "code",
   "execution_count": 23,
   "metadata": {},
   "outputs": [],
   "source": [
    "# To support both python 2 and python 3\n",
    "from __future__ import division, print_function, unicode_literals\n",
    "\n",
    "# Common imports\n",
    "import numpy as np\n",
    "import os\n",
    "\n",
    "# to make this notebook's output stable across runs\n",
    "np.random.seed(42)\n",
    "\n",
    "# To plot pretty figures\n",
    "%matplotlib inline\n",
    "import matplotlib as mpl\n",
    "import matplotlib.pyplot as plt\n",
    "mpl.rc('axes', labelsize=14)\n",
    "mpl.rc('xtick', labelsize=12)\n",
    "mpl.rc('ytick', labelsize=12)\n",
    "\n",
    "# Where to save the figures\n",
    "PROJECT_ROOT_DIR = \".\"\n",
    "CHAPTER_ID = \"classification\"\n",
    "\n",
    "def save_fig(fig_id, tight_layout=True):\n",
    "    path = os.path.join(PROJECT_ROOT_DIR, \"images\", CHAPTER_ID, fig_id + \".png\")\n",
    "    print(\"Saving figure\", fig_id)\n",
    "    if tight_layout:\n",
    "        plt.tight_layout()\n",
    "    plt.savefig(path, format='png', dpi=300)"
   ]
  },
  {
   "cell_type": "markdown",
   "metadata": {},
   "source": [
    "# 없을때"
   ]
  },
  {
   "cell_type": "code",
   "execution_count": 24,
   "metadata": {},
   "outputs": [
    {
     "data": {
      "text/plain": [
       "array([[-4.91686761e-02, -5.24529628e-02, -3.89299430e-02, ...,\n",
       "         7.78052490e-05,  1.08491608e-04,  4.45719306e-05],\n",
       "       [-4.89479564e-02, -5.23567833e-02, -3.92126441e-02, ...,\n",
       "         7.63783391e-05,  8.03138610e-05,  1.72917607e-05],\n",
       "       [-4.84894887e-02, -5.17830104e-02, -3.89348790e-02, ...,\n",
       "         7.93165527e-05,  7.57492671e-05,  3.13077544e-05],\n",
       "       ...,\n",
       "       [-4.94713970e-02, -5.29342294e-02, -3.96963842e-02, ...,\n",
       "         3.44837899e-05,  3.50668306e-05, -5.60025956e-06],\n",
       "       [-4.97591756e-02, -5.32698147e-02, -3.98111790e-02, ...,\n",
       "         3.35478580e-05,  2.56000912e-05, -1.08936556e-05],\n",
       "       [-4.94738929e-02, -5.29006608e-02, -3.96814160e-02, ...,\n",
       "         6.39733771e-05,  6.76940981e-05,  5.50820050e-06]])"
      ]
     },
     "execution_count": 24,
     "metadata": {},
     "output_type": "execute_result"
    }
   ],
   "source": [
    "import csv\n",
    "import numpy as np\n",
    "import pandas as pd\n",
    "data1 = pd.read_csv(\"yes/Float_recording31.csv\", header=None)\n",
    "data1 = np.array(data1)\n",
    "data1 = np.concatenate(data1, axis=None)\n",
    "\n",
    "for i in range(501,700):    \n",
    "    a = pd.read_csv(\"yes/Float_recording\"+ str(i) +\".csv\", header=None)\n",
    "    a = np.array(a)\n",
    "    a = np.concatenate(a, axis=None)\n",
    "    data1 = np.vstack((data1,a))\n",
    "\n",
    "data1"
   ]
  },
  {
   "cell_type": "code",
   "execution_count": 25,
   "metadata": {},
   "outputs": [
    {
     "data": {
      "text/plain": [
       "(200L, 180L)"
      ]
     },
     "execution_count": 25,
     "metadata": {},
     "output_type": "execute_result"
    }
   ],
   "source": [
    "data1.shape"
   ]
  },
  {
   "cell_type": "markdown",
   "metadata": {},
   "source": [
    "# 있을때"
   ]
  },
  {
   "cell_type": "code",
   "execution_count": 26,
   "metadata": {},
   "outputs": [
    {
     "data": {
      "text/plain": [
       "array([[-4.96048369e-02, -5.32979332e-02, -4.01677005e-02, ...,\n",
       "         2.04908138e-05,  1.08015965e-05, -1.18142470e-05],\n",
       "       [-4.91474345e-02, -5.27077280e-02, -3.97475287e-02, ...,\n",
       "         6.06055494e-07, -2.10661819e-05, -3.27960406e-05],\n",
       "       [-4.92230467e-02, -5.27830385e-02, -3.98781523e-02, ...,\n",
       "        -6.77401295e-06,  5.32408239e-06, -1.81356354e-05],\n",
       "       ...,\n",
       "       [-5.16899154e-02, -5.59000596e-02, -4.18093130e-02, ...,\n",
       "        -1.27962103e-05, -7.55651490e-06, -3.80664242e-05],\n",
       "       [-5.17913103e-02, -5.60434945e-02, -4.20186110e-02, ...,\n",
       "         1.40313359e-05,  1.46527345e-05, -1.47371220e-05],\n",
       "       [-5.15945330e-02, -5.57242557e-02, -4.17579822e-02, ...,\n",
       "         3.77288743e-05,  5.11234684e-05,  1.67777653e-05]])"
      ]
     },
     "execution_count": 26,
     "metadata": {},
     "output_type": "execute_result"
    }
   ],
   "source": [
    "data2 = pd.read_csv(\"no/Float_recording31.csv\", header=None)\n",
    "data2 = np.array(data2)\n",
    "data2 = np.concatenate(data2, axis=None)\n",
    "\n",
    "for i in range(199):    \n",
    "    a = pd.read_csv(\"no/Float_recording\"+ str(i) +\".csv\", header=None)\n",
    "    a = np.array(a)\n",
    "    a = np.concatenate(a, axis=None)\n",
    "    data2 = np.vstack((data2,a))\n",
    "\n",
    "data2"
   ]
  },
  {
   "cell_type": "code",
   "execution_count": 27,
   "metadata": {},
   "outputs": [
    {
     "data": {
      "text/plain": [
       "(200L, 180L)"
      ]
     },
     "execution_count": 27,
     "metadata": {},
     "output_type": "execute_result"
    }
   ],
   "source": [
    "data2.shape"
   ]
  },
  {
   "cell_type": "code",
   "execution_count": 28,
   "metadata": {},
   "outputs": [],
   "source": [
    "data = np.vstack((data1,data2))\n",
    "x_train = data"
   ]
  },
  {
   "cell_type": "code",
   "execution_count": 29,
   "metadata": {},
   "outputs": [],
   "source": [
    "arr = np.zeros((200,1))\n",
    "y_train1 = (arr == 500)"
   ]
  },
  {
   "cell_type": "code",
   "execution_count": 30,
   "metadata": {},
   "outputs": [],
   "source": [
    "arr = np.zeros((200,1))\n",
    "y_train2 = (arr != 500)"
   ]
  },
  {
   "cell_type": "code",
   "execution_count": 31,
   "metadata": {},
   "outputs": [],
   "source": [
    "y_train = np.vstack((y_train1,y_train2))"
   ]
  },
  {
   "cell_type": "code",
   "execution_count": 32,
   "metadata": {},
   "outputs": [
    {
     "data": {
      "text/plain": [
       "(400L, 1L)"
      ]
     },
     "execution_count": 32,
     "metadata": {},
     "output_type": "execute_result"
    }
   ],
   "source": [
    "y_train.shape"
   ]
  },
  {
   "cell_type": "code",
   "execution_count": 33,
   "metadata": {},
   "outputs": [
    {
     "data": {
      "text/plain": [
       "SGDClassifier(alpha=0.0001, average=False, class_weight=None,\n",
       "       early_stopping=False, epsilon=0.1, eta0=0.0, fit_intercept=True,\n",
       "       l1_ratio=0.15, learning_rate='optimal', loss='hinge', max_iter=5,\n",
       "       n_iter=None, n_iter_no_change=5, n_jobs=None, penalty='l2',\n",
       "       power_t=0.5, random_state=42, shuffle=True, tol=-inf,\n",
       "       validation_fraction=0.1, verbose=0, warm_start=False)"
      ]
     },
     "execution_count": 33,
     "metadata": {},
     "output_type": "execute_result"
    }
   ],
   "source": [
    "from sklearn.linear_model import SGDClassifier\n",
    "\n",
    "sgd_clf = SGDClassifier(max_iter=5, tol=-np.infty, random_state=42)\n",
    "sgd_clf.fit(x_train, y_train)"
   ]
  },
  {
   "cell_type": "code",
   "execution_count": 34,
   "metadata": {},
   "outputs": [],
   "source": [
    "from sklearn.model_selection import cross_val_predict\n",
    "y_train_pred = cross_val_predict(sgd_clf, x_train, y_train, cv=3)"
   ]
  },
  {
   "cell_type": "code",
   "execution_count": 35,
   "metadata": {},
   "outputs": [
    {
     "data": {
      "text/plain": [
       "array([[134,  66],\n",
       "       [134,  66]], dtype=int64)"
      ]
     },
     "execution_count": 35,
     "metadata": {},
     "output_type": "execute_result"
    }
   ],
   "source": [
    "from sklearn.metrics import confusion_matrix\n",
    "\n",
    "confusion_matrix(y_train, y_train_pred)"
   ]
  },
  {
   "cell_type": "code",
   "execution_count": 36,
   "metadata": {},
   "outputs": [
    {
     "data": {
      "text/plain": [
       "array([0.5, 0.5, 0.5])"
      ]
     },
     "execution_count": 36,
     "metadata": {},
     "output_type": "execute_result"
    }
   ],
   "source": [
    "from sklearn.model_selection import cross_val_score\n",
    "cross_val_score(sgd_clf, x_train, y_train, cv=3, scoring=\"accuracy\")"
   ]
  },
  {
   "cell_type": "code",
   "execution_count": 37,
   "metadata": {},
   "outputs": [
    {
     "data": {
      "text/plain": [
       "0.5"
      ]
     },
     "execution_count": 37,
     "metadata": {},
     "output_type": "execute_result"
    }
   ],
   "source": [
    "from sklearn.metrics import precision_score, recall_score\n",
    "\n",
    "precision_score(y_train, y_train_pred)"
   ]
  },
  {
   "cell_type": "code",
   "execution_count": 38,
   "metadata": {},
   "outputs": [
    {
     "data": {
      "text/plain": [
       "0.33"
      ]
     },
     "execution_count": 38,
     "metadata": {},
     "output_type": "execute_result"
    }
   ],
   "source": [
    "recall_score(y_train, y_train_pred)"
   ]
  },
  {
   "cell_type": "code",
   "execution_count": 39,
   "metadata": {},
   "outputs": [
    {
     "data": {
      "text/plain": [
       "0.39759036144578314"
      ]
     },
     "execution_count": 39,
     "metadata": {},
     "output_type": "execute_result"
    }
   ],
   "source": [
    "from sklearn.metrics import f1_score\n",
    "f1_score(y_train, y_train_pred)"
   ]
  },
  {
   "cell_type": "code",
   "execution_count": 41,
   "metadata": {},
   "outputs": [
    {
     "data": {
      "text/plain": [
       "array([0.81786885])"
      ]
     },
     "execution_count": 41,
     "metadata": {},
     "output_type": "execute_result"
    }
   ],
   "source": [
    "some_digit = x_train[100]\n",
    "y_scores = sgd_clf.decision_function([some_digit])\n",
    "y_scores"
   ]
  },
  {
   "cell_type": "code",
   "execution_count": 42,
   "metadata": {},
   "outputs": [],
   "source": [
    "threshold = 0.9\n",
    "y_some_digit_pred = (y_scores > threshold)"
   ]
  },
  {
   "cell_type": "code",
   "execution_count": 43,
   "metadata": {},
   "outputs": [
    {
     "data": {
      "text/plain": [
       "array([False])"
      ]
     },
     "execution_count": 43,
     "metadata": {},
     "output_type": "execute_result"
    }
   ],
   "source": [
    "y_some_digit_pred"
   ]
  },
  {
   "cell_type": "code",
   "execution_count": 45,
   "metadata": {},
   "outputs": [
    {
     "data": {
      "text/plain": [
       "array([-3.55518894, -3.55656659, -3.56404026, -3.55362039, -3.54428234,\n",
       "       -3.55569432, -3.58038686, -3.54757171, -3.556352  , -3.54867209,\n",
       "       -3.54451814, -3.56327336, -3.574315  , -3.56399186, -3.56774962,\n",
       "       -3.56097203, -3.56293982, -3.62439423, -3.54716197, -3.55693045,\n",
       "       -3.56014955, -3.5589356 , -3.53957387, -3.55162355, -3.56777888,\n",
       "       -3.55055551, -3.55448305, -3.56484802, -3.56674413, -3.55416277,\n",
       "       -3.55734662, -3.55661895, -3.56592531, -3.56583075, -3.55965985,\n",
       "       -3.56500589, -3.54260853, -3.55718292, -3.55392912, -3.53628756,\n",
       "       -3.5549186 , -3.54927672, -3.58794991, -3.56832912, -3.58669392,\n",
       "       -3.56007077, -3.55349337, -3.54070562, -3.55980052, -3.57135086,\n",
       "       -3.57821737, -3.56098033, -3.5833472 , -3.55911316, -3.5595839 ,\n",
       "       -3.57507448, -3.55119364, -3.54522699, -3.55357895, -3.55569114,\n",
       "       -3.55034613, -3.53215692, -3.54730712, -3.55221682, -3.56182605,\n",
       "       -3.58172172, -3.57587307, -3.63998313, -3.63721906, -3.63275514,\n",
       "       -3.69409564, -3.69732558, -3.69791357, -3.69721596, -3.64025545,\n",
       "       -3.62954777, -3.63003169, -3.62222603, -3.62662622, -3.63162926,\n",
       "       -3.63823759, -3.60878729, -3.60709723, -3.62432789, -3.6358198 ,\n",
       "       -3.62211156, -3.61418913, -3.63199453, -3.62527384, -3.63130477,\n",
       "       -3.63622889, -3.63356072, -3.62775909, -3.64070806, -3.62532682,\n",
       "       -3.63449987, -3.63486253, -3.62914949, -3.62324298, -3.63987005,\n",
       "       -3.63702652, -3.63938279, -3.6210227 , -3.63019221, -3.64022102,\n",
       "       -3.64277631, -3.63350431, -3.6555396 , -3.63398273, -3.64243563,\n",
       "       -3.62663596, -3.6401346 , -3.64300782, -3.64483395, -3.6214228 ,\n",
       "       -3.64712657, -3.65079103, -3.6370419 , -3.63527985, -3.64980659,\n",
       "       -3.66595688, -3.63665813, -3.64015469, -3.64528708, -3.66501929,\n",
       "       -3.64494765, -3.64140269, -3.66705786, -3.65127486, -3.65569384,\n",
       "       -3.64686158, -3.64183939, -3.63396379, -3.63425324,  4.87552125,\n",
       "        4.87656181,  4.87405355,  4.88062611,  4.87487697,  4.87477728,\n",
       "        4.87178938,  4.86964439,  4.88540927,  4.86912288,  4.87956518,\n",
       "        4.88457466,  4.88494193,  4.89199675,  4.8815379 ,  4.9024687 ,\n",
       "        4.85548468,  4.87554417,  4.88711504,  4.86265131,  4.88591157,\n",
       "        4.8610473 ,  4.88221326,  4.87760653,  4.88927689,  4.8740742 ,\n",
       "        4.85366161,  4.87295311,  4.80709269,  4.82030666,  4.82469392,\n",
       "        4.89296091,  4.89272363,  4.8621764 ,  4.86666363,  4.8621544 ,\n",
       "        4.86365982,  4.85487239,  4.87534166,  4.88885279,  4.88147229,\n",
       "        4.87222672,  4.86569441,  4.88685391,  4.86791011,  4.85906521,\n",
       "        4.85635774,  4.85983266,  4.86077388,  4.85716461,  4.85962811,\n",
       "        4.8533943 ,  4.87602944,  4.8969511 ,  4.8635647 ,  4.8646173 ,\n",
       "        4.85538037,  4.8555862 ,  4.86003265,  4.88771827,  4.85615623,\n",
       "        4.85957662,  4.88940098,  4.88079671,  4.8840769 ,  4.88060038,\n",
       "       -3.53639438, -3.54932225, -3.53361441, -3.49126997, -3.51537448,\n",
       "       -3.51028829, -3.51443464, -3.52629916, -3.52962819, -3.52137002,\n",
       "       -3.48275386, -3.54249969, -3.52253173, -3.50748879, -3.52700557,\n",
       "       -3.52578798, -3.5073209 , -3.5164159 , -3.5121592 , -3.50681722,\n",
       "       -3.53409644, -3.50920849, -3.50681359, -3.54160366, -3.51729159,\n",
       "       -3.49770496, -3.54585661, -3.52519248, -3.53113942, -3.52375195,\n",
       "       -3.51654026, -3.55372098, -3.53639438, -3.51805909, -3.55521172,\n",
       "       -3.54122956, -3.50962888, -3.51856456, -3.51849667, -3.52800821,\n",
       "       -3.53485302, -3.52811423, -3.5065924 , -3.5151068 , -3.50180005,\n",
       "       -3.51436436, -3.50284439, -3.50180342, -3.50195582, -3.51554788,\n",
       "       -3.5208026 , -3.54202031, -3.51764265, -3.51844616, -3.51522971,\n",
       "       -3.51798561, -3.52773136, -3.52464435, -3.54292085, -3.54660178,\n",
       "       -3.49888121, -3.51989546, -3.50374735, -3.49991108, -3.50477359,\n",
       "       -3.51069366, -3.5245738 , -3.6000156 , -3.60862597, -3.60482504,\n",
       "       -3.5968105 , -3.60986394, -3.60103223, -3.59571541, -3.62024502,\n",
       "       -3.60951809, -3.60420287, -3.59190561, -3.58669853, -3.59919231,\n",
       "       -3.58416613, -3.6022077 , -3.61521329, -3.59300892, -3.59034974,\n",
       "       -3.58544589, -3.61592217, -3.60310144, -3.60099668, -3.60889284,\n",
       "       -3.59288223, -3.59153721, -3.59252376, -3.58341264, -3.58727922,\n",
       "       -3.59441708, -3.59740307, -3.6022638 , -3.5997147 , -3.59007164,\n",
       "       -3.6027557 , -3.59501137, -3.58753067, -3.59535401, -3.59519535,\n",
       "       -3.58240511, -3.59758949, -3.61601243, -3.62278331, -3.58736543,\n",
       "       -3.599623  , -3.58304561, -3.59029042, -3.5907255 , -3.5909486 ,\n",
       "       -3.59308686, -3.59130505, -3.58969188, -3.5950929 , -3.59712026,\n",
       "       -3.58608425, -3.59276798, -3.5885408 , -3.59421157, -3.59037134,\n",
       "       -3.59415064, -3.59539515, -3.59718084, -3.58299253, -3.6000025 ,\n",
       "       -3.59142506, -3.58631663, -3.58059117, -3.58459248,  4.93147993,\n",
       "        4.92640675,  4.91674248,  4.92845872,  4.91267764,  4.93406686,\n",
       "        4.93645252,  4.9335152 ,  4.91989888,  4.92855701,  4.92013735,\n",
       "        4.92521001,  4.93859996,  4.91390574,  4.90726958,  4.93528706,\n",
       "        4.92396131,  4.91931142,  4.91648221,  4.93123635,  4.94773273,\n",
       "        4.84200377,  4.87664066,  4.93328344,  4.920196  ,  4.9362429 ,\n",
       "        4.93836769,  4.91298002,  4.9452135 ,  4.94108641,  4.94456382,\n",
       "        4.93393486,  4.93943684,  4.94161178,  4.90434753,  4.91684666,\n",
       "        4.89405198,  4.91583331,  4.91879213,  4.9161471 ,  4.92532258,\n",
       "        4.92875968,  4.93999159,  4.92828633,  4.92010732,  4.92596629,\n",
       "        4.93750639,  4.9201413 ,  4.92011456,  4.93558549,  4.86973338,\n",
       "        4.86368542,  4.86466907,  4.86228401,  4.85578286,  4.85223704,\n",
       "        4.85462116,  4.85402061,  4.92937956,  4.92734786,  4.92461037,\n",
       "        4.90217137,  4.92513092,  4.92549172,  4.92838036,  4.92372938])"
      ]
     },
     "execution_count": 45,
     "metadata": {},
     "output_type": "execute_result"
    }
   ],
   "source": [
    "y_scores = cross_val_predict(sgd_clf, x_train, y_train, cv=3,method=\"decision_function\")\n",
    "y_scores"
   ]
  },
  {
   "cell_type": "code",
   "execution_count": 46,
   "metadata": {},
   "outputs": [
    {
     "data": {
      "text/plain": [
       "(400L,)"
      ]
     },
     "execution_count": 46,
     "metadata": {},
     "output_type": "execute_result"
    }
   ],
   "source": [
    "y_scores.shape"
   ]
  },
  {
   "cell_type": "code",
   "execution_count": 47,
   "metadata": {},
   "outputs": [],
   "source": [
    "if y_scores.ndim == 2:\n",
    "    y_scores = y_scores[:, 1]"
   ]
  },
  {
   "cell_type": "code",
   "execution_count": 48,
   "metadata": {},
   "outputs": [],
   "source": [
    "from sklearn.metrics import precision_recall_curve\n",
    "\n",
    "precisions, recalls, thresholds = precision_recall_curve(y_train, y_scores)"
   ]
  },
  {
   "cell_type": "code",
   "execution_count": 49,
   "metadata": {},
   "outputs": [
    {
     "data": {
      "text/plain": [
       "True"
      ]
     },
     "execution_count": 49,
     "metadata": {},
     "output_type": "execute_result"
    }
   ],
   "source": [
    "(y_train_pred == (y_scores > 0)).all()"
   ]
  },
  {
   "cell_type": "code",
   "execution_count": 50,
   "metadata": {},
   "outputs": [],
   "source": [
    "y_train_pred_90 = (y_scores > 0.9)"
   ]
  },
  {
   "cell_type": "code",
   "execution_count": 51,
   "metadata": {},
   "outputs": [
    {
     "data": {
      "text/plain": [
       "0.5"
      ]
     },
     "execution_count": 51,
     "metadata": {},
     "output_type": "execute_result"
    }
   ],
   "source": [
    "precision_score(y_train, y_train_pred_90)"
   ]
  },
  {
   "cell_type": "code",
   "execution_count": 52,
   "metadata": {},
   "outputs": [
    {
     "data": {
      "text/plain": [
       "0.33"
      ]
     },
     "execution_count": 52,
     "metadata": {},
     "output_type": "execute_result"
    }
   ],
   "source": [
    "recall_score(y_train, y_train_pred_90)"
   ]
  },
  {
   "cell_type": "code",
   "execution_count": 53,
   "metadata": {},
   "outputs": [],
   "source": [
    "from sklearn.metrics import roc_curve\n",
    "\n",
    "fpr, tpr, thresholds = roc_curve(y_train, y_scores)"
   ]
  },
  {
   "cell_type": "code",
   "execution_count": 54,
   "metadata": {},
   "outputs": [
    {
     "data": {
      "text/plain": [
       "0.653425"
      ]
     },
     "execution_count": 54,
     "metadata": {},
     "output_type": "execute_result"
    }
   ],
   "source": [
    "from sklearn.metrics import roc_auc_score\n",
    "\n",
    "roc_auc_score(y_train, y_scores)"
   ]
  },
  {
   "cell_type": "code",
   "execution_count": 66,
   "metadata": {},
   "outputs": [],
   "source": [
    "from sklearn.model_selection import cross_val_predict\n",
    "from sklearn.ensemble import RandomForestClassifier\n",
    "forest_clf = RandomForestClassifier(n_estimators=10, random_state=42)\n",
    "y_probas_forest = cross_val_predict(forest_clf,x_train, y_train, cv=3, method=\"predict_proba\")"
   ]
  },
  {
   "cell_type": "code",
   "execution_count": 67,
   "metadata": {},
   "outputs": [],
   "source": [
    "from sklearn.metrics import roc_auc_score\n",
    "y_scores_forest = y_probas_forest[:, 1]\n",
    "fpr_forest, tpr_forest, thresholds_forest = roc_curve(y_train, y_scores_forest)"
   ]
  },
  {
   "cell_type": "code",
   "execution_count": 68,
   "metadata": {},
   "outputs": [
    {
     "data": {
      "text/plain": [
       "1.0"
      ]
     },
     "execution_count": 68,
     "metadata": {},
     "output_type": "execute_result"
    }
   ],
   "source": [
    "roc_auc_score(y_train, y_scores_forest)"
   ]
  },
  {
   "cell_type": "code",
   "execution_count": 69,
   "metadata": {},
   "outputs": [
    {
     "data": {
      "text/plain": [
       "1.0"
      ]
     },
     "execution_count": 69,
     "metadata": {},
     "output_type": "execute_result"
    }
   ],
   "source": [
    "y_train_pred_forest = cross_val_predict(forest_clf, x_train, y_train, cv=3)\n",
    "precision_score(y_train, y_train_pred_forest)"
   ]
  },
  {
   "cell_type": "code",
   "execution_count": 70,
   "metadata": {},
   "outputs": [
    {
     "data": {
      "text/plain": [
       "1.0"
      ]
     },
     "execution_count": 70,
     "metadata": {},
     "output_type": "execute_result"
    }
   ],
   "source": [
    "recall_score(y_train, y_train_pred_forest)"
   ]
  },
  {
   "cell_type": "code",
   "execution_count": 71,
   "metadata": {},
   "outputs": [
    {
     "data": {
      "text/plain": [
       "array([1., 1., 1.])"
      ]
     },
     "execution_count": 71,
     "metadata": {},
     "output_type": "execute_result"
    }
   ],
   "source": [
    "from sklearn.model_selection import cross_val_score\n",
    "cross_val_score(forest_clf, x_train, y_train, cv=3, scoring=\"accuracy\")"
   ]
  },
  {
   "cell_type": "markdown",
   "metadata": {},
   "source": [
    "# 5개로 나눔"
   ]
  },
  {
   "cell_type": "code",
   "execution_count": 84,
   "metadata": {},
   "outputs": [
    {
     "data": {
      "text/plain": [
       "array([[-5.31013496e-02, -5.79873063e-02, -4.39663567e-02, ...,\n",
       "        -2.23089792e-05, -2.43419508e-05,  1.13155929e-05],\n",
       "       [-5.31013496e-02, -5.79873063e-02, -4.39663567e-02, ...,\n",
       "        -2.23089792e-05, -2.43419508e-05,  1.13155929e-05],\n",
       "       [-5.31961322e-02, -5.81681021e-02, -4.40712757e-02, ...,\n",
       "        -1.81663218e-05, -2.40657737e-05, -1.69542113e-06],\n",
       "       ...,\n",
       "       [-5.09131737e-02, -5.49869314e-02, -4.17868830e-02, ...,\n",
       "         1.04487035e-05, -2.04831413e-05, -1.41847677e-05],\n",
       "       [-5.14034964e-02, -5.57217859e-02, -4.24313508e-02, ...,\n",
       "         1.31030738e-05,  1.51820741e-05,  2.68812473e-05],\n",
       "       [-5.20030670e-02, -5.65406457e-02, -4.30195630e-02, ...,\n",
       "         1.02569138e-05, -6.97347423e-06, -1.53431770e-07]])"
      ]
     },
     "execution_count": 84,
     "metadata": {},
     "output_type": "execute_result"
    }
   ],
   "source": [
    "datatest = pd.read_csv(\"test/Float_recording0.csv\", header=None)\n",
    "datatest = np.array(datatest)\n",
    "datatest = np.concatenate(datatest, axis=None)\n",
    "\n",
    "for i in range(100):    \n",
    "    a = pd.read_csv(\"test/Float_recording\"+ str(i) +\".csv\", header=None)\n",
    "    a = np.array(a)\n",
    "    a = np.concatenate(a, axis=None)\n",
    "    datatest = np.vstack((datatest,a))\n",
    "\n",
    "datatest"
   ]
  },
  {
   "cell_type": "code",
   "execution_count": 85,
   "metadata": {},
   "outputs": [
    {
     "data": {
      "text/plain": [
       "array([[-5.11591248e-02, -5.52019291e-02, -4.14246134e-02, ...,\n",
       "        -1.27148916e-04, -1.18265212e-04, -4.89370650e-05],\n",
       "       [-5.11591248e-02, -5.52019291e-02, -4.14246134e-02, ...,\n",
       "        -1.27148916e-04, -1.18265212e-04, -4.89370650e-05],\n",
       "       [-5.02446555e-02, -5.41550964e-02, -4.08608839e-02, ...,\n",
       "        -7.72298808e-05, -1.04118801e-04, -4.82236064e-05],\n",
       "       ...,\n",
       "       [-4.84249406e-02, -5.20267524e-02, -3.93888354e-02, ...,\n",
       "        -1.12081914e-04, -1.30470711e-04, -7.16219511e-05],\n",
       "       [-4.83406596e-02, -5.17759435e-02, -3.91725898e-02, ...,\n",
       "        -9.35473508e-05, -7.25885693e-05, -9.98840824e-06],\n",
       "       [-4.77790087e-02, -5.11156097e-02, -3.86752114e-02, ...,\n",
       "        -1.26389423e-04, -1.13033188e-04, -3.23050590e-05]])"
      ]
     },
     "execution_count": 85,
     "metadata": {},
     "output_type": "execute_result"
    }
   ],
   "source": [
    "data3 = pd.read_csv(\"1/Float_recording0.csv\", header=None)\n",
    "data3 = np.array(data3)\n",
    "data3 = np.concatenate(data3, axis=None)\n",
    "\n",
    "for i in range(100):    \n",
    "    a = pd.read_csv(\"1/Float_recording\"+ str(i) +\".csv\", header=None)\n",
    "    a = np.array(a)\n",
    "    a = np.concatenate(a, axis=None)\n",
    "    data3 = np.vstack((data3,a))\n",
    "\n",
    "data3"
   ]
  },
  {
   "cell_type": "code",
   "execution_count": 86,
   "metadata": {},
   "outputs": [],
   "source": [
    "y_train1 = np.full((101,1), 1)"
   ]
  },
  {
   "cell_type": "code",
   "execution_count": 87,
   "metadata": {},
   "outputs": [
    {
     "data": {
      "text/plain": [
       "array([[-4.72414196e-02, -5.04749715e-02, -3.87418978e-02, ...,\n",
       "        -7.86414530e-05, -7.30718821e-05, -4.38354582e-05],\n",
       "       [-4.72414196e-02, -5.04749715e-02, -3.87418978e-02, ...,\n",
       "        -7.86414530e-05, -7.30718821e-05, -4.38354582e-05],\n",
       "       [-4.97022904e-02, -5.35117388e-02, -4.06842008e-02, ...,\n",
       "        -2.92747827e-05, -2.06135592e-05, -8.29298733e-06],\n",
       "       ...,\n",
       "       [-4.83250804e-02, -5.18867671e-02, -3.97020690e-02, ...,\n",
       "        -6.67428249e-05, -6.66737760e-05, -3.62175706e-05],\n",
       "       [-4.75222543e-02, -5.08920550e-02, -3.91035751e-02, ...,\n",
       "        -5.18829547e-05, -4.63363940e-05, -3.56115161e-05],\n",
       "       [-4.73087989e-02, -5.05442321e-02, -3.88167202e-02, ...,\n",
       "        -7.14608468e-05, -6.42879168e-05, -5.17678818e-05]])"
      ]
     },
     "execution_count": 87,
     "metadata": {},
     "output_type": "execute_result"
    }
   ],
   "source": [
    "data4 = pd.read_csv(\"2/Float_recording0.csv\", header=None)\n",
    "data4 = np.array(data4)\n",
    "data4 = np.concatenate(data4, axis=None)\n",
    "\n",
    "for i in range(100):    \n",
    "    a = pd.read_csv(\"2/Float_recording\"+ str(i) +\".csv\", header=None)\n",
    "    a = np.array(a)\n",
    "    a = np.concatenate(a, axis=None)\n",
    "    data4 = np.vstack((data4,a))\n",
    "\n",
    "data4"
   ]
  },
  {
   "cell_type": "code",
   "execution_count": 88,
   "metadata": {},
   "outputs": [],
   "source": [
    "y_train2 = np.full((101,1), 2)"
   ]
  },
  {
   "cell_type": "code",
   "execution_count": 89,
   "metadata": {},
   "outputs": [
    {
     "data": {
      "text/plain": [
       "array([[-4.88618612e-02, -5.25819510e-02, -4.00952734e-02, ...,\n",
       "        -4.46870035e-05, -7.30335232e-05, -5.11004509e-05],\n",
       "       [-4.88618612e-02, -5.25819510e-02, -4.00952734e-02, ...,\n",
       "        -4.46870035e-05, -7.30335232e-05, -5.11004509e-05],\n",
       "       [-4.96095642e-02, -5.35706356e-02, -4.09138389e-02, ...,\n",
       "        -2.59913431e-05, -6.44183310e-05, -6.31525181e-05],\n",
       "       ...,\n",
       "       [-4.91429158e-02, -5.29044494e-02, -4.03065421e-02, ...,\n",
       "        -4.95584645e-05, -6.28763446e-05, -1.01341684e-05],\n",
       "       [-4.97923531e-02, -5.37361801e-02, -4.09154072e-02, ...,\n",
       "        -1.74068355e-05, -4.63363940e-05, -1.78671307e-05],\n",
       "       [-4.80637699e-02, -5.17000854e-02, -3.95464264e-02, ...,\n",
       "        -5.16758228e-05, -9.12688920e-05, -5.18599409e-05]])"
      ]
     },
     "execution_count": 89,
     "metadata": {},
     "output_type": "execute_result"
    }
   ],
   "source": [
    "data5 = pd.read_csv(\"3/Float_recording0.csv\", header=None)\n",
    "data5 = np.array(data5)\n",
    "data5 = np.concatenate(data5, axis=None)\n",
    "\n",
    "for i in range(100):    \n",
    "    a = pd.read_csv(\"3/Float_recording\"+ str(i) +\".csv\", header=None)\n",
    "    a = np.array(a)\n",
    "    a = np.concatenate(a, axis=None)\n",
    "    data5 = np.vstack((data5,a))\n",
    "\n",
    "data5"
   ]
  },
  {
   "cell_type": "code",
   "execution_count": 90,
   "metadata": {},
   "outputs": [],
   "source": [
    "y_train3 = np.full((101,1), 3)"
   ]
  },
  {
   "cell_type": "code",
   "execution_count": 91,
   "metadata": {},
   "outputs": [
    {
     "data": {
      "text/plain": [
       "array([[-5.05165979e-02, -5.46923578e-02, -4.16586734e-02, ...,\n",
       "        -7.40461765e-05, -1.12319729e-04, -8.81849119e-05],\n",
       "       [-5.05165979e-02, -5.46923578e-02, -4.16586734e-02, ...,\n",
       "        -7.40461765e-05, -1.12319729e-04, -8.81849119e-05],\n",
       "       [-5.13294563e-02, -5.57656139e-02, -4.23452817e-02, ...,\n",
       "        -5.44145769e-05, -8.25462921e-05, -5.30336911e-05],\n",
       "       ...,\n",
       "       [-4.85114604e-02, -5.22258207e-02, -3.99978831e-02, ...,\n",
       "        -2.95739737e-05, -4.78093425e-05, -2.15571636e-05],\n",
       "       [-4.90883626e-02, -5.28488979e-02, -4.03985716e-02, ...,\n",
       "        -1.16301280e-05, -3.34174401e-05, -1.50439855e-05],\n",
       "       [-4.97138910e-02, -5.37583902e-02, -4.09609377e-02, ...,\n",
       "        -7.35398498e-05, -9.44142448e-05, -6.41651714e-05]])"
      ]
     },
     "execution_count": 91,
     "metadata": {},
     "output_type": "execute_result"
    }
   ],
   "source": [
    "data6 = pd.read_csv(\"4/Float_recording0.csv\", header=None)\n",
    "data6 = np.array(data6)\n",
    "data6 = np.concatenate(data6, axis=None)\n",
    "\n",
    "for i in range(100):    \n",
    "    a = pd.read_csv(\"4/Float_recording\"+ str(i) +\".csv\", header=None)\n",
    "    a = np.array(a)\n",
    "    a = np.concatenate(a, axis=None)\n",
    "    data6 = np.vstack((data6,a))\n",
    "\n",
    "data6"
   ]
  },
  {
   "cell_type": "code",
   "execution_count": 92,
   "metadata": {},
   "outputs": [],
   "source": [
    "y_train4 = np.full((101,1), 4)"
   ]
  },
  {
   "cell_type": "code",
   "execution_count": 93,
   "metadata": {},
   "outputs": [
    {
     "data": {
      "text/plain": [
       "array([[-4.75545898e-02, -5.12547754e-02, -3.93875614e-02, ...,\n",
       "        -3.68389701e-05, -6.72798342e-05, -5.35937179e-05],\n",
       "       [-4.75545898e-02, -5.12547754e-02, -3.93875614e-02, ...,\n",
       "        -3.68389701e-05, -6.72798342e-05, -5.35937179e-05],\n",
       "       [-4.96272370e-02, -5.37037663e-02, -4.10645939e-02, ...,\n",
       "        -4.36359951e-05, -6.80776793e-05, -5.15607462e-05],\n",
       "       ...,\n",
       "       [-5.01272269e-02, -5.42323925e-02, -4.13805246e-02, ...,\n",
       "        -6.58222325e-06, -6.27229092e-05, -5.26117547e-05],\n",
       "       [-4.91481312e-02, -5.31210415e-02, -4.08180542e-02, ...,\n",
       "        -1.17221871e-05, -7.88025573e-05, -7.85570664e-05],\n",
       "       [-4.98498678e-02, -5.40114120e-02, -4.13474925e-02, ...,\n",
       "        -8.81542292e-05, -1.19093740e-04, -8.64818212e-05]])"
      ]
     },
     "execution_count": 93,
     "metadata": {},
     "output_type": "execute_result"
    }
   ],
   "source": [
    "data7 = pd.read_csv(\"5/Float_recording0.csv\", header=None)\n",
    "data7 = np.array(data7)\n",
    "data7 = np.concatenate(data7, axis=None)\n",
    "\n",
    "for i in range(100):    \n",
    "    a = pd.read_csv(\"5/Float_recording\"+ str(i) +\".csv\", header=None)\n",
    "    a = np.array(a)\n",
    "    a = np.concatenate(a, axis=None)\n",
    "    data7 = np.vstack((data7,a))\n",
    "\n",
    "data7"
   ]
  },
  {
   "cell_type": "code",
   "execution_count": 94,
   "metadata": {},
   "outputs": [],
   "source": [
    "y_train5 = np.full((101,1), 5)"
   ]
  },
  {
   "cell_type": "code",
   "execution_count": 95,
   "metadata": {},
   "outputs": [],
   "source": [
    "data8 = np.vstack((data3,data4))\n",
    "data8 = np.vstack((data8,data5))\n",
    "data8 = np.vstack((data8,data6))\n",
    "data8 = np.vstack((data8,data7))"
   ]
  },
  {
   "cell_type": "code",
   "execution_count": 96,
   "metadata": {},
   "outputs": [
    {
     "data": {
      "text/plain": [
       "(505L, 180L)"
      ]
     },
     "execution_count": 96,
     "metadata": {},
     "output_type": "execute_result"
    }
   ],
   "source": [
    "data8.shape"
   ]
  },
  {
   "cell_type": "code",
   "execution_count": 97,
   "metadata": {},
   "outputs": [
    {
     "data": {
      "text/plain": [
       "(505L, 180L)"
      ]
     },
     "execution_count": 97,
     "metadata": {},
     "output_type": "execute_result"
    }
   ],
   "source": [
    "x_train6 = data8\n",
    "x_train6.shape"
   ]
  },
  {
   "cell_type": "code",
   "execution_count": 98,
   "metadata": {},
   "outputs": [],
   "source": [
    "y_train6 = np.vstack((y_train1,y_train2))\n",
    "y_train6 = np.vstack((y_train6,y_train3))\n",
    "y_train6 = np.vstack((y_train6,y_train4))\n",
    "y_train6 = np.vstack((y_train6,y_train5))"
   ]
  },
  {
   "cell_type": "code",
   "execution_count": 99,
   "metadata": {},
   "outputs": [
    {
     "data": {
      "text/plain": [
       "(505L, 1L)"
      ]
     },
     "execution_count": 99,
     "metadata": {},
     "output_type": "execute_result"
    }
   ],
   "source": [
    "y_train6.shape"
   ]
  },
  {
   "cell_type": "code",
   "execution_count": 100,
   "metadata": {},
   "outputs": [
    {
     "data": {
      "text/plain": [
       "array([5])"
      ]
     },
     "execution_count": 100,
     "metadata": {},
     "output_type": "execute_result"
    }
   ],
   "source": [
    "some_digit = x_train6[250]\n",
    "sgd_clf.fit(x_train6, y_train6)\n",
    "sgd_clf.predict([some_digit])"
   ]
  },
  {
   "cell_type": "code",
   "execution_count": 101,
   "metadata": {},
   "outputs": [
    {
     "data": {
      "text/plain": [
       "array([[-1.01331303, -1.02005554, -0.99974349, -1.00254734,  1.86750041]])"
      ]
     },
     "execution_count": 101,
     "metadata": {},
     "output_type": "execute_result"
    }
   ],
   "source": [
    "some_digit_scores = sgd_clf.decision_function([some_digit])\n",
    "some_digit_scores"
   ]
  },
  {
   "cell_type": "code",
   "execution_count": 102,
   "metadata": {},
   "outputs": [
    {
     "data": {
      "text/plain": [
       "4"
      ]
     },
     "execution_count": 102,
     "metadata": {},
     "output_type": "execute_result"
    }
   ],
   "source": [
    "np.argmax(some_digit_scores)"
   ]
  },
  {
   "cell_type": "code",
   "execution_count": 103,
   "metadata": {},
   "outputs": [
    {
     "data": {
      "text/plain": [
       "array([1, 2, 3, 4, 5])"
      ]
     },
     "execution_count": 103,
     "metadata": {},
     "output_type": "execute_result"
    }
   ],
   "source": [
    "sgd_clf.classes_"
   ]
  },
  {
   "cell_type": "code",
   "execution_count": 104,
   "metadata": {},
   "outputs": [
    {
     "data": {
      "text/plain": [
       "5"
      ]
     },
     "execution_count": 104,
     "metadata": {},
     "output_type": "execute_result"
    }
   ],
   "source": [
    "sgd_clf.classes_[4]"
   ]
  },
  {
   "cell_type": "code",
   "execution_count": 105,
   "metadata": {
    "scrolled": true
   },
   "outputs": [
    {
     "data": {
      "text/plain": [
       "array([5])"
      ]
     },
     "execution_count": 105,
     "metadata": {},
     "output_type": "execute_result"
    }
   ],
   "source": [
    "from sklearn.multiclass import OneVsOneClassifier\n",
    "ovo_clf = OneVsOneClassifier(SGDClassifier(max_iter=5, tol=-np.infty, random_state=42))\n",
    "ovo_clf.fit(x_train6, y_train6)\n",
    "ovo_clf.predict([some_digit])"
   ]
  },
  {
   "cell_type": "code",
   "execution_count": 106,
   "metadata": {},
   "outputs": [
    {
     "data": {
      "text/plain": [
       "10"
      ]
     },
     "execution_count": 106,
     "metadata": {},
     "output_type": "execute_result"
    }
   ],
   "source": [
    "len(ovo_clf.estimators_)"
   ]
  },
  {
   "cell_type": "code",
   "execution_count": 107,
   "metadata": {},
   "outputs": [
    {
     "name": "stderr",
     "output_type": "stream",
     "text": [
      "C:\\Users\\Ubicomp_Lab\\Anaconda2\\lib\\site-packages\\ipykernel_launcher.py:6: DataConversionWarning: A column-vector y was passed when a 1d array was expected. Please change the shape of y to (n_samples,), for example using ravel().\n",
      "  \n"
     ]
    },
    {
     "data": {
      "text/plain": [
       "RandomForestClassifier(bootstrap=True, class_weight=None, criterion='gini',\n",
       "            max_depth=None, max_features='auto', max_leaf_nodes=None,\n",
       "            min_impurity_decrease=0.0, min_impurity_split=None,\n",
       "            min_samples_leaf=1, min_samples_split=2,\n",
       "            min_weight_fraction_leaf=0.0, n_estimators=10, n_jobs=None,\n",
       "            oob_score=False, random_state=42, verbose=0, warm_start=False)"
      ]
     },
     "execution_count": 107,
     "metadata": {},
     "output_type": "execute_result"
    }
   ],
   "source": [
    "from sklearn.ensemble import RandomForestClassifier\n",
    "forest_clf = RandomForestClassifier(n_estimators=10, random_state=42)\n",
    "import pandas as pd\n",
    "y_train6 = pd.DataFrame(y_train6)\n",
    "y_probas_forest = cross_val_predict(forest_clf, x_train6, y_train6, cv=3, method=\"predict_proba\")\n",
    "forest_clf.fit(x_train6, y_train6)"
   ]
  },
  {
   "cell_type": "code",
   "execution_count": 108,
   "metadata": {},
   "outputs": [
    {
     "data": {
      "text/plain": [
       "array([3])"
      ]
     },
     "execution_count": 108,
     "metadata": {},
     "output_type": "execute_result"
    }
   ],
   "source": [
    "forest_clf.predict([some_digit])"
   ]
  },
  {
   "cell_type": "code",
   "execution_count": 109,
   "metadata": {},
   "outputs": [
    {
     "data": {
      "text/plain": [
       "array([[0., 0., 1., 0., 0.]])"
      ]
     },
     "execution_count": 109,
     "metadata": {},
     "output_type": "execute_result"
    }
   ],
   "source": [
    "forest_clf.predict_proba([some_digit])"
   ]
  },
  {
   "cell_type": "code",
   "execution_count": 110,
   "metadata": {},
   "outputs": [
    {
     "data": {
      "text/plain": [
       "array([0.99411765, 1.        , 1.        ])"
      ]
     },
     "execution_count": 110,
     "metadata": {},
     "output_type": "execute_result"
    }
   ],
   "source": [
    "cross_val_score(forest_clf, x_train6, y_train6, cv=3, scoring=\"accuracy\")"
   ]
  },
  {
   "cell_type": "code",
   "execution_count": 111,
   "metadata": {},
   "outputs": [
    {
     "data": {
      "text/plain": [
       "array([0.99411765, 1.        , 1.        ])"
      ]
     },
     "execution_count": 111,
     "metadata": {},
     "output_type": "execute_result"
    }
   ],
   "source": [
    "from sklearn.preprocessing import StandardScaler\n",
    "scaler = StandardScaler()\n",
    "X_train_scaled = scaler.fit_transform(x_train6.astype(np.float64))\n",
    "cross_val_score(forest_clf, X_train_scaled, y_train6, cv=3, scoring=\"accuracy\")"
   ]
  },
  {
   "cell_type": "code",
   "execution_count": 112,
   "metadata": {},
   "outputs": [
    {
     "data": {
      "text/plain": [
       "array([[101,   0,   0,   0,   0],\n",
       "       [  0, 101,   0,   0,   0],\n",
       "       [  0,   0, 100,   1,   0],\n",
       "       [  0,   0,   0, 101,   0],\n",
       "       [  0,   0,   0,   0, 101]], dtype=int64)"
      ]
     },
     "execution_count": 112,
     "metadata": {},
     "output_type": "execute_result"
    }
   ],
   "source": [
    "y_train_pred = cross_val_predict(forest_clf, X_train_scaled, y_train6, cv=3)\n",
    "conf_mx = confusion_matrix(y_train6, y_train_pred)\n",
    "conf_mx"
   ]
  },
  {
   "cell_type": "code",
   "execution_count": 113,
   "metadata": {},
   "outputs": [],
   "source": [
    "def plot_confusion_matrix(matrix):\n",
    "    \"\"\"If you prefer color and a colorbar\"\"\"\n",
    "    fig = plt.figure(figsize=(8,8))\n",
    "    ax = fig.add_subplot(111)\n",
    "    cax = ax.matshow(matrix)\n",
    "    fig.colorbar(cax)"
   ]
  },
  {
   "cell_type": "code",
   "execution_count": 140,
   "metadata": {},
   "outputs": [
    {
     "data": {
      "image/png": "[encoded data removed]",
      "text/plain": [
       "<Figure size 288x288 with 1 Axes>"
      ]
     },
     "metadata": {
      "needs_background": "light"
     },
     "output_type": "display_data"
    }
   ],
   "source": [
    "plt.matshow(conf_mx, cmap=plt.cm.gray)\n",
    "plt.show()"
   ]
  },
  {
   "cell_type": "code",
   "execution_count": 141,
   "metadata": {},
   "outputs": [
    {
     "data": {
      "text/plain": [
       "array([0.2, 0.2, 0.2])"
      ]
     },
     "execution_count": 141,
     "metadata": {},
     "output_type": "execute_result"
    }
   ],
   "source": [
    "cross_val_score(sgd_clf, x_train6, y_train6, cv=3, scoring=\"accuracy\")"
   ]
  },
  {
   "cell_type": "code",
   "execution_count": 142,
   "metadata": {},
   "outputs": [
    {
     "data": {
      "text/plain": [
       "array([1., 1., 1.])"
      ]
     },
     "execution_count": 142,
     "metadata": {},
     "output_type": "execute_result"
    }
   ],
   "source": [
    "from sklearn.preprocessing import StandardScaler\n",
    "scaler = StandardScaler()\n",
    "X_train_scaled = scaler.fit_transform(x_train6.astype(np.float64))\n",
    "cross_val_score(sgd_clf, X_train_scaled, y_train6, cv=3, scoring=\"accuracy\")"
   ]
  },
  {
   "cell_type": "code",
   "execution_count": 143,
   "metadata": {},
   "outputs": [
    {
     "data": {
      "text/plain": [
       "array([[101,   0,   0,   0,   0],\n",
       "       [  0, 101,   0,   0,   0],\n",
       "       [  0,   0, 101,   0,   0],\n",
       "       [  0,   0,   0, 101,   0],\n",
       "       [  0,   0,   0,   0, 101]], dtype=int64)"
      ]
     },
     "execution_count": 143,
     "metadata": {},
     "output_type": "execute_result"
    }
   ],
   "source": [
    "y_train_pred = cross_val_predict(sgd_clf, X_train_scaled, y_train6, cv=3)\n",
    "conf_mx = confusion_matrix(y_train6, y_train_pred)\n",
    "conf_mx"
   ]
  },
  {
   "cell_type": "code",
   "execution_count": 144,
   "metadata": {},
   "outputs": [],
   "source": [
    "def plot_confusion_matrix(matrix):\n",
    "    \"\"\"If you prefer color and a colorbar\"\"\"\n",
    "    fig = plt.figure(figsize=(8,8))\n",
    "    ax = fig.add_subplot(111)\n",
    "    cax = ax.matshow(matrix)\n",
    "    fig.colorbar(cax)"
   ]
  },
  {
   "cell_type": "code",
   "execution_count": 145,
   "metadata": {},
   "outputs": [
    {
     "data": {
      "image/png": "[encoded data removed]",
      "text/plain": [
       "<Figure size 288x288 with 1 Axes>"
      ]
     },
     "metadata": {
      "needs_background": "light"
     },
     "output_type": "display_data"
    }
   ],
   "source": [
    "plt.matshow(conf_mx, cmap=plt.cm.gray)\n",
    "plt.show()"
   ]
  },
  {
   "cell_type": "code",
   "execution_count": 146,
   "metadata": {},
   "outputs": [],
   "source": [
    "row_sums = conf_mx.sum(axis=1, keepdims=True)\n",
    "norm_conf_mx = conf_mx / row_sums"
   ]
  },
  {
   "cell_type": "code",
   "execution_count": 147,
   "metadata": {},
   "outputs": [
    {
     "data": {
      "image/png": "[encoded data removed]",
      "text/plain": [
       "<Figure size 288x288 with 1 Axes>"
      ]
     },
     "metadata": {
      "needs_background": "light"
     },
     "output_type": "display_data"
    }
   ],
   "source": [
    "np.fill_diagonal(norm_conf_mx, 0)\n",
    "plt.matshow(norm_conf_mx, cmap=plt.cm.gray)\n",
    "plt.show()"
   ]
  },
  {
   "cell_type": "markdown",
   "metadata": {},
   "source": [
    "# 다항 특성 선형 scv"
   ]
  },
  {
   "cell_type": "code",
   "execution_count": 148,
   "metadata": {},
   "outputs": [
    {
     "data": {
      "text/plain": [
       "array([[-5.11591248e-02, -5.52019291e-02, -4.14246134e-02, ...,\n",
       "        -1.27148916e-04, -1.18265212e-04, -4.89370650e-05],\n",
       "       [-5.11591248e-02, -5.52019291e-02, -4.14246134e-02, ...,\n",
       "        -1.27148916e-04, -1.18265212e-04, -4.89370650e-05],\n",
       "       [-5.02446555e-02, -5.41550964e-02, -4.08608839e-02, ...,\n",
       "        -7.72298808e-05, -1.04118801e-04, -4.82236064e-05],\n",
       "       ...,\n",
       "       [-5.01272269e-02, -5.42323925e-02, -4.13805246e-02, ...,\n",
       "        -6.58222325e-06, -6.27229092e-05, -5.26117547e-05],\n",
       "       [-4.91481312e-02, -5.31210415e-02, -4.08180542e-02, ...,\n",
       "        -1.17221871e-05, -7.88025573e-05, -7.85570664e-05],\n",
       "       [-4.98498678e-02, -5.40114120e-02, -4.13474925e-02, ...,\n",
       "        -8.81542292e-05, -1.19093740e-04, -8.64818212e-05]])"
      ]
     },
     "execution_count": 148,
     "metadata": {},
     "output_type": "execute_result"
    }
   ],
   "source": [
    "x_train6"
   ]
  },
  {
   "cell_type": "code",
   "execution_count": null,
   "metadata": {},
   "outputs": [],
   "source": [
    "import numpy as np\n",
    "from sklearn import datasets\n",
    "from sklearn.pipeline import Pipeline\n",
    "from sklearn.preprocessing import StandardScaler\n",
    "from sklearn.svm import LinearSVC\n",
    "from sklearn.datasets import make_moons\n",
    "from sklearn.pipeline import Pipeline\n",
    "from sklearn.preprocessing import PolynomialFeatures\n",
    "\n",
    "polynomial_svm_clf = Pipeline([\n",
    "        (\"poly_features\", PolynomialFeatures(degree=3)),\n",
    "        (\"scaler\", StandardScaler()),\n",
    "        (\"svm_clf\", LinearSVC(C=10, loss=\"hinge\", random_state=42))\n",
    "    ])\n",
    "\n",
    "polynomial_svm_clf.fit(x_train6, y_train6)"
   ]
  },
  {
   "cell_type": "code",
   "execution_count": null,
   "metadata": {},
   "outputs": [],
   "source": [
    "polynomial_svm_clf.predict(datatest)"
   ]
  },
  {
   "cell_type": "code",
   "execution_count": null,
   "metadata": {},
   "outputs": [],
   "source": [
    "cross_val_score(forest_clf, x_train6, y_train6, cv=3, scoring=\"accuracy\")"
   ]
  },
  {
   "cell_type": "code",
   "execution_count": 92,
   "metadata": {},
   "outputs": [
    {
     "data": {
      "text/plain": [
       "1.0"
      ]
     },
     "execution_count": 92,
     "metadata": {},
     "output_type": "execute_result"
    }
   ],
   "source": [
    "score_test"
   ]
  },
  {
   "cell_type": "code",
   "execution_count": 75,
   "metadata": {},
   "outputs": [
    {
     "data": {
      "text/plain": [
       "Pipeline(memory=None,\n",
       "     steps=[(u'scaler', StandardScaler(copy=True, with_mean=True, with_std=True)), (u'svm_clf', SVC(C=5, cache_size=200, class_weight=None, coef0=1,\n",
       "  decision_function_shape='ovr', degree=3, gamma='auto_deprecated',\n",
       "  kernel=u'poly', max_iter=-1, probability=False, random_state=None,\n",
       "  shrinking=True, tol=0.001, verbose=False))])"
      ]
     },
     "execution_count": 75,
     "metadata": {},
     "output_type": "execute_result"
    }
   ],
   "source": [
    "from sklearn.svm import SVC\n",
    "\n",
    "poly_kernel_svm_clf = Pipeline([\n",
    "        (\"scaler\", StandardScaler()),\n",
    "        (\"svm_clf\", SVC(kernel=\"poly\", degree=3, coef0=1, C=5))\n",
    "    ])\n",
    "poly_kernel_svm_clf.fit(x_train6, y_train6)"
   ]
  },
  {
   "cell_type": "code",
   "execution_count": 76,
   "metadata": {},
   "outputs": [
    {
     "data": {
      "text/plain": [
       "Pipeline(memory=None,\n",
       "     steps=[(u'scaler', StandardScaler(copy=True, with_mean=True, with_std=True)), (u'svm_clf', SVC(C=5, cache_size=200, class_weight=None, coef0=100,\n",
       "  decision_function_shape='ovr', degree=10, gamma='auto_deprecated',\n",
       "  kernel=u'poly', max_iter=-1, probability=False, random_state=None,\n",
       "  shrinking=True, tol=0.001, verbose=False))])"
      ]
     },
     "execution_count": 76,
     "metadata": {},
     "output_type": "execute_result"
    }
   ],
   "source": [
    "poly100_kernel_svm_clf = Pipeline([\n",
    "        (\"scaler\", StandardScaler()),\n",
    "        (\"svm_clf\", SVC(kernel=\"poly\", degree=10, coef0=100, C=5))\n",
    "    ])\n",
    "poly100_kernel_svm_clf.fit(x_train6, y_train6)"
   ]
  },
  {
   "cell_type": "code",
   "execution_count": 77,
   "metadata": {},
   "outputs": [
    {
     "data": {
      "text/plain": [
       "Pipeline(memory=None,\n",
       "     steps=[(u'scaler', StandardScaler(copy=True, with_mean=True, with_std=True)), (u'svm_clf', SVC(C=0.001, cache_size=200, class_weight=None, coef0=0.0,\n",
       "  decision_function_shape='ovr', degree=3, gamma=5, kernel=u'rbf',\n",
       "  max_iter=-1, probability=False, random_state=None, shrinking=True,\n",
       "  tol=0.001, verbose=False))])"
      ]
     },
     "execution_count": 77,
     "metadata": {},
     "output_type": "execute_result"
    }
   ],
   "source": [
    "rbf_kernel_svm_clf = Pipeline([\n",
    "        (\"scaler\", StandardScaler()),\n",
    "        (\"svm_clf\", SVC(kernel=\"rbf\", gamma=5, C=0.001))\n",
    "    ])\n",
    "rbf_kernel_svm_clf.fit(x_train6, y_train6)"
   ]
  },
  {
   "cell_type": "code",
   "execution_count": 78,
   "metadata": {},
   "outputs": [
    {
     "data": {
      "text/plain": [
       "LinearSVR(C=1.0, dual=True, epsilon=1.5, fit_intercept=True,\n",
       "     intercept_scaling=1.0, loss='epsilon_insensitive', max_iter=1000,\n",
       "     random_state=42, tol=0.0001, verbose=0)"
      ]
     },
     "execution_count": 78,
     "metadata": {},
     "output_type": "execute_result"
    }
   ],
   "source": [
    "from sklearn.svm import LinearSVR\n",
    "\n",
    "svm_reg = LinearSVR(epsilon=1.5, random_state=42)\n",
    "svm_reg.fit(x_train6, y_train6)"
   ]
  },
  {
   "cell_type": "code",
   "execution_count": 79,
   "metadata": {},
   "outputs": [
    {
     "data": {
      "text/plain": [
       "SVR(C=100, cache_size=200, coef0=0.0, degree=2, epsilon=0.1, gamma=u'auto',\n",
       "  kernel=u'poly', max_iter=-1, shrinking=True, tol=0.001, verbose=False)"
      ]
     },
     "execution_count": 79,
     "metadata": {},
     "output_type": "execute_result"
    }
   ],
   "source": [
    "from sklearn.svm import SVR\n",
    "\n",
    "svm_poly_reg = SVR(kernel=\"poly\", degree=2, C=100, epsilon=0.1, gamma=\"auto\")\n",
    "svm_poly_reg.fit(x_train6, y_train6)"
   ]
  },
  {
   "cell_type": "markdown",
   "metadata": {},
   "source": [
    "# 결정트리"
   ]
  },
  {
   "cell_type": "code",
   "execution_count": 80,
   "metadata": {},
   "outputs": [
    {
     "data": {
      "text/plain": [
       "DecisionTreeClassifier(class_weight=None, criterion='gini', max_depth=2,\n",
       "            max_features=None, max_leaf_nodes=None,\n",
       "            min_impurity_decrease=0.0, min_impurity_split=None,\n",
       "            min_samples_leaf=1, min_samples_split=2,\n",
       "            min_weight_fraction_leaf=0.0, presort=False, random_state=42,\n",
       "            splitter='best')"
      ]
     },
     "execution_count": 80,
     "metadata": {},
     "output_type": "execute_result"
    }
   ],
   "source": [
    "from sklearn.tree import DecisionTreeClassifier\n",
    "tree_clf = DecisionTreeClassifier(max_depth=2, random_state=42)\n",
    "tree_clf.fit(x_train6, y_train6)"
   ]
  },
  {
   "cell_type": "code",
   "execution_count": 84,
   "metadata": {},
   "outputs": [
    {
     "data": {
      "text/plain": [
       "array([1, 1, 1, 1, 1, 1, 1, 1, 1, 1, 1, 1, 1, 1, 1, 1, 1, 1, 1, 1, 1, 1,\n",
       "       1, 1, 1, 1, 1, 1, 1, 1, 1, 1, 1, 1, 1, 1, 1, 1, 1, 1, 1, 1, 1, 1,\n",
       "       1, 1, 1, 1, 1, 1, 1, 1, 1, 1, 1, 1, 1, 1, 1, 1, 1, 1, 1, 1, 1, 1,\n",
       "       1, 1, 1, 1, 1, 1, 1, 1, 1, 1, 1, 1, 1, 1, 1, 1, 1, 1, 1, 1, 1, 1,\n",
       "       1, 1, 1, 1, 1, 1, 1, 1, 1, 1, 1, 1, 1, 1, 1, 1, 1, 1, 1, 1, 1, 1,\n",
       "       1, 1, 1, 1, 1, 1, 1, 1, 1, 1, 1, 1, 1, 1, 1, 1, 1, 1, 1, 1, 1, 1,\n",
       "       1, 1, 1, 1, 1, 1, 1, 1, 1, 1, 1, 1, 1, 1, 1, 1, 1, 1, 1, 1, 1, 1,\n",
       "       1, 1, 1, 1, 1, 1, 1, 1, 1, 1, 1, 1, 1, 1, 1, 1, 1, 1, 1, 1, 1, 1,\n",
       "       1, 1, 1, 1, 1, 1, 1, 1, 1, 1, 1, 1, 1, 1, 1, 1, 1, 1, 1, 1, 1, 1,\n",
       "       1, 1, 1, 1, 3, 3, 3, 3, 3, 3, 3, 3, 3, 3, 3, 3, 3, 3, 3, 3, 3, 3,\n",
       "       3, 3, 3, 3, 3, 3, 3, 3, 3, 3, 3, 3, 3, 3, 3, 3, 3, 3, 3, 3, 3, 3,\n",
       "       3, 3, 3, 3, 3, 3, 3, 3, 3, 3, 3, 3, 3, 3, 3, 3, 3, 3, 3, 3, 3, 3,\n",
       "       3, 3, 3, 3, 3, 3, 3, 3, 3, 3, 3, 3, 3, 3, 3, 3, 3, 3, 3, 3, 3, 3,\n",
       "       3, 3, 3, 3, 3, 3, 3, 3, 3, 3, 3, 3, 3, 3, 3, 3, 3, 3, 3, 3, 3, 3,\n",
       "       3, 3, 3, 3, 3, 3, 3, 3, 3, 3, 3, 3, 3, 3, 3, 3, 3, 3, 3, 3, 3, 3,\n",
       "       3, 3, 3, 3, 3, 3, 3, 3, 3, 3, 3, 3, 3, 3, 3, 3, 3, 3, 3, 3, 3, 3,\n",
       "       3, 3, 3, 3, 3, 3, 3, 3, 3, 3, 3, 3, 3, 3, 3, 3, 3, 3, 3, 3, 3, 3,\n",
       "       3, 3, 3, 3, 3, 3, 3, 3, 3, 3, 3, 3, 3, 3, 3, 3, 3, 3, 3, 3, 3, 3,\n",
       "       3, 3, 3, 3, 3, 3, 3, 3, 5, 5, 5, 5, 5, 5, 5, 5, 5, 5, 5, 5, 5, 5,\n",
       "       5, 5, 5, 5, 5, 5, 5, 5, 5, 5, 5, 5, 5, 5, 5, 5, 5, 5, 5, 5, 5, 5,\n",
       "       5, 5, 5, 5, 5, 5, 5, 5, 5, 5, 5, 5, 5, 5, 5, 5, 5, 5, 5, 5, 5, 5,\n",
       "       5, 5, 5, 5, 5, 5, 5, 5, 5, 5, 5, 5, 5, 5, 5, 5, 5, 5, 5, 5, 5, 5,\n",
       "       5, 5, 5, 5, 5, 5, 5, 5, 5, 5, 5, 5, 5, 5, 5, 5, 5, 5, 5, 5, 5])"
      ]
     },
     "execution_count": 84,
     "metadata": {},
     "output_type": "execute_result"
    }
   ],
   "source": [
    "tree_clf.predict_proba(x_train6)\n",
    "tree_clf.predict(x_train6)"
   ]
  },
  {
   "cell_type": "code",
   "execution_count": null,
   "metadata": {},
   "outputs": [],
   "source": [
    "from sklearn.tree import DecisionTreeRegressor\n",
    "\n",
    "tree_reg = DecisionTreeRegressor(max_depth=2, random_state=42)\n",
    "tree_reg.fit(x_train6, y_train6)"
   ]
  }
 ],
 "metadata": {
  "anaconda-cloud": {},
  "kernelspec": {
   "display_name": "Python 2",
   "language": "python",
   "name": "python2"
  },
  "language_info": {
   "codemirror_mode": {
    "name": "ipython",
    "version": 2
   },
   "file_extension": ".py",
   "mimetype": "text/x-python",
   "name": "python",
   "nbconvert_exporter": "python",
   "pygments_lexer": "ipython2",
   "version": "2.7.16"
  }
 },
 "nbformat": 4,
 "nbformat_minor": 1
}
